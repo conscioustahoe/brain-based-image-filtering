{
 "cells": [
  {
   "cell_type": "markdown",
   "metadata": {},
   "source": [
    "## Download NSD Snapshot"
   ]
  },
  {
   "cell_type": "code",
   "execution_count": 1,
   "metadata": {},
   "outputs": [],
   "source": [
    "from huggingface_hub import snapshot_download, hf_hub_download"
   ]
  },
  {
   "cell_type": "code",
   "execution_count": 2,
   "metadata": {},
   "outputs": [
    {
     "data": {
      "application/vnd.jupyter.widget-view+json": {
       "model_id": "6344e2d03c29477baee5312a03a582c5",
       "version_major": 2,
       "version_minor": 0
      },
      "text/plain": [
       "Fetching 300 files:   0%|          | 0/300 [00:00<?, ?it/s]"
      ]
     },
     "metadata": {},
     "output_type": "display_data"
    },
    {
     "data": {
      "application/vnd.jupyter.widget-view+json": {
       "model_id": "41923850ff07493885980cfc751eaba1",
       "version_major": 2,
       "version_minor": 0
      },
      "text/plain": [
       "wds/subj01/test/0.tar:   0%|          | 0.00/35.5M [00:00<?, ?B/s]"
      ]
     },
     "metadata": {},
     "output_type": "display_data"
    },
    {
     "data": {
      "application/vnd.jupyter.widget-view+json": {
       "model_id": "d51b894518fe485cbddd90a36f0bd828",
       "version_major": 2,
       "version_minor": 0
      },
      "text/plain": [
       "wds/subj01/train/12.tar:   0%|          | 0.00/8.84M [00:00<?, ?B/s]"
      ]
     },
     "metadata": {},
     "output_type": "display_data"
    },
    {
     "data": {
      "application/vnd.jupyter.widget-view+json": {
       "model_id": "fb6e5660c457453692739954922072b5",
       "version_major": 2,
       "version_minor": 0
      },
      "text/plain": [
       "wds/subj01/train/10.tar:   0%|          | 0.00/8.54M [00:00<?, ?B/s]"
      ]
     },
     "metadata": {},
     "output_type": "display_data"
    },
    {
     "data": {
      "application/vnd.jupyter.widget-view+json": {
       "model_id": "a1bacbdc2a1b45fa9cb3864e13871b67",
       "version_major": 2,
       "version_minor": 0
      },
      "text/plain": [
       "wds/subj01/new_test/0.tar:   0%|          | 0.00/38.4M [00:00<?, ?B/s]"
      ]
     },
     "metadata": {},
     "output_type": "display_data"
    },
    {
     "data": {
      "application/vnd.jupyter.widget-view+json": {
       "model_id": "272927bcef854da4a8b6c8021a4f2fa1",
       "version_major": 2,
       "version_minor": 0
      },
      "text/plain": [
       "wds/subj01/train/1.tar:   0%|          | 0.00/8.58M [00:00<?, ?B/s]"
      ]
     },
     "metadata": {},
     "output_type": "display_data"
    },
    {
     "data": {
      "application/vnd.jupyter.widget-view+json": {
       "model_id": "65f740ad21404dfd9e01d272a27ce549",
       "version_major": 2,
       "version_minor": 0
      },
      "text/plain": [
       "wds/subj01/train/0.tar:   0%|          | 0.00/8.82M [00:00<?, ?B/s]"
      ]
     },
     "metadata": {},
     "output_type": "display_data"
    },
    {
     "data": {
      "application/vnd.jupyter.widget-view+json": {
       "model_id": "c9ab0bc287f1451ab4347430c52ea675",
       "version_major": 2,
       "version_minor": 0
      },
      "text/plain": [
       "wds/subj01/train/11.tar:   0%|          | 0.00/8.57M [00:00<?, ?B/s]"
      ]
     },
     "metadata": {},
     "output_type": "display_data"
    },
    {
     "data": {
      "application/vnd.jupyter.widget-view+json": {
       "model_id": "9048399e09454afdaf7c9e0c3db145f3",
       "version_major": 2,
       "version_minor": 0
      },
      "text/plain": [
       "wds/subj01/train/13.tar:   0%|          | 0.00/8.53M [00:00<?, ?B/s]"
      ]
     },
     "metadata": {},
     "output_type": "display_data"
    },
    {
     "data": {
      "application/vnd.jupyter.widget-view+json": {
       "model_id": "335746440aef4911b7e5c6586ec46e4e",
       "version_major": 2,
       "version_minor": 0
      },
      "text/plain": [
       "wds/subj01/train/14.tar:   0%|          | 0.00/8.49M [00:00<?, ?B/s]"
      ]
     },
     "metadata": {},
     "output_type": "display_data"
    },
    {
     "data": {
      "application/vnd.jupyter.widget-view+json": {
       "model_id": "6373c4672ba941ddaaaff79bc13229b2",
       "version_major": 2,
       "version_minor": 0
      },
      "text/plain": [
       "wds/subj01/train/15.tar:   0%|          | 0.00/8.54M [00:00<?, ?B/s]"
      ]
     },
     "metadata": {},
     "output_type": "display_data"
    },
    {
     "data": {
      "application/vnd.jupyter.widget-view+json": {
       "model_id": "17b7c062f2584a4e97b040fc5dbfb4c7",
       "version_major": 2,
       "version_minor": 0
      },
      "text/plain": [
       "wds/subj01/train/16.tar:   0%|          | 0.00/8.72M [00:00<?, ?B/s]"
      ]
     },
     "metadata": {},
     "output_type": "display_data"
    },
    {
     "data": {
      "application/vnd.jupyter.widget-view+json": {
       "model_id": "6ae15ac18f4446f7a6d0466df5cc51f6",
       "version_major": 2,
       "version_minor": 0
      },
      "text/plain": [
       "wds/subj01/train/17.tar:   0%|          | 0.00/8.48M [00:00<?, ?B/s]"
      ]
     },
     "metadata": {},
     "output_type": "display_data"
    },
    {
     "data": {
      "application/vnd.jupyter.widget-view+json": {
       "model_id": "69987974324f4b388da7aa93c5db8b67",
       "version_major": 2,
       "version_minor": 0
      },
      "text/plain": [
       "wds/subj01/train/18.tar:   0%|          | 0.00/8.71M [00:00<?, ?B/s]"
      ]
     },
     "metadata": {},
     "output_type": "display_data"
    },
    {
     "data": {
      "application/vnd.jupyter.widget-view+json": {
       "model_id": "507caa4fab634e09ae15c8dd0695f5e8",
       "version_major": 2,
       "version_minor": 0
      },
      "text/plain": [
       "wds/subj01/train/19.tar:   0%|          | 0.00/8.47M [00:00<?, ?B/s]"
      ]
     },
     "metadata": {},
     "output_type": "display_data"
    },
    {
     "data": {
      "application/vnd.jupyter.widget-view+json": {
       "model_id": "3adc128d9e69408caedd8398f6492aee",
       "version_major": 2,
       "version_minor": 0
      },
      "text/plain": [
       "wds/subj01/train/2.tar:   0%|          | 0.00/8.85M [00:00<?, ?B/s]"
      ]
     },
     "metadata": {},
     "output_type": "display_data"
    },
    {
     "data": {
      "application/vnd.jupyter.widget-view+json": {
       "model_id": "bdef2c0055c94139bcdc7e43f41dd13d",
       "version_major": 2,
       "version_minor": 0
      },
      "text/plain": [
       "wds/subj01/train/22.tar:   0%|          | 0.00/8.64M [00:00<?, ?B/s]"
      ]
     },
     "metadata": {},
     "output_type": "display_data"
    },
    {
     "data": {
      "application/vnd.jupyter.widget-view+json": {
       "model_id": "b53a433a78d34c2eac7bcfbb62079f03",
       "version_major": 2,
       "version_minor": 0
      },
      "text/plain": [
       "wds/subj01/train/20.tar:   0%|          | 0.00/8.71M [00:00<?, ?B/s]"
      ]
     },
     "metadata": {},
     "output_type": "display_data"
    },
    {
     "data": {
      "application/vnd.jupyter.widget-view+json": {
       "model_id": "4a4fdf59bf6b4a828a427ec0bc5df800",
       "version_major": 2,
       "version_minor": 0
      },
      "text/plain": [
       "wds/subj01/train/21.tar:   0%|          | 0.00/8.85M [00:00<?, ?B/s]"
      ]
     },
     "metadata": {},
     "output_type": "display_data"
    },
    {
     "data": {
      "application/vnd.jupyter.widget-view+json": {
       "model_id": "699c8e8a714747b4b80a945d32179ab0",
       "version_major": 2,
       "version_minor": 0
      },
      "text/plain": [
       "wds/subj01/train/23.tar:   0%|          | 0.00/8.77M [00:00<?, ?B/s]"
      ]
     },
     "metadata": {},
     "output_type": "display_data"
    },
    {
     "data": {
      "application/vnd.jupyter.widget-view+json": {
       "model_id": "4e2a442fcd6f47c49043e148d3a63d64",
       "version_major": 2,
       "version_minor": 0
      },
      "text/plain": [
       "wds/subj01/train/24.tar:   0%|          | 0.00/8.73M [00:00<?, ?B/s]"
      ]
     },
     "metadata": {},
     "output_type": "display_data"
    },
    {
     "data": {
      "application/vnd.jupyter.widget-view+json": {
       "model_id": "3e8d47c6e48644bd9046e50b066d1606",
       "version_major": 2,
       "version_minor": 0
      },
      "text/plain": [
       "wds/subj01/train/25.tar:   0%|          | 0.00/8.59M [00:00<?, ?B/s]"
      ]
     },
     "metadata": {},
     "output_type": "display_data"
    },
    {
     "data": {
      "application/vnd.jupyter.widget-view+json": {
       "model_id": "b90fb482f64f41599b4572d2ac103d46",
       "version_major": 2,
       "version_minor": 0
      },
      "text/plain": [
       "wds/subj01/train/26.tar:   0%|          | 0.00/8.62M [00:00<?, ?B/s]"
      ]
     },
     "metadata": {},
     "output_type": "display_data"
    },
    {
     "data": {
      "application/vnd.jupyter.widget-view+json": {
       "model_id": "182bb10eefec41338a6cd9078815cda9",
       "version_major": 2,
       "version_minor": 0
      },
      "text/plain": [
       "wds/subj01/train/27.tar:   0%|          | 0.00/8.74M [00:00<?, ?B/s]"
      ]
     },
     "metadata": {},
     "output_type": "display_data"
    },
    {
     "data": {
      "application/vnd.jupyter.widget-view+json": {
       "model_id": "a2e56fe8d58b47bfa62c50d6917f7a24",
       "version_major": 2,
       "version_minor": 0
      },
      "text/plain": [
       "wds/subj01/train/28.tar:   0%|          | 0.00/8.83M [00:00<?, ?B/s]"
      ]
     },
     "metadata": {},
     "output_type": "display_data"
    },
    {
     "data": {
      "application/vnd.jupyter.widget-view+json": {
       "model_id": "026cca418fb448b5a9ac2fbc6eef5d30",
       "version_major": 2,
       "version_minor": 0
      },
      "text/plain": [
       "wds/subj01/train/30.tar:   0%|          | 0.00/8.31M [00:00<?, ?B/s]"
      ]
     },
     "metadata": {},
     "output_type": "display_data"
    },
    {
     "data": {
      "application/vnd.jupyter.widget-view+json": {
       "model_id": "7b4726d101b648acbc48e81ca49a0d9c",
       "version_major": 2,
       "version_minor": 0
      },
      "text/plain": [
       "wds/subj01/train/29.tar:   0%|          | 0.00/8.64M [00:00<?, ?B/s]"
      ]
     },
     "metadata": {},
     "output_type": "display_data"
    },
    {
     "data": {
      "application/vnd.jupyter.widget-view+json": {
       "model_id": "502a67adf1cf4d03aff79b02ff8c158a",
       "version_major": 2,
       "version_minor": 0
      },
      "text/plain": [
       "wds/subj01/train/3.tar:   0%|          | 0.00/8.56M [00:00<?, ?B/s]"
      ]
     },
     "metadata": {},
     "output_type": "display_data"
    },
    {
     "data": {
      "application/vnd.jupyter.widget-view+json": {
       "model_id": "3ae6c1aae12845249c9fc8b65a8fa987",
       "version_major": 2,
       "version_minor": 0
      },
      "text/plain": [
       "wds/subj01/train/32.tar:   0%|          | 0.00/8.59M [00:00<?, ?B/s]"
      ]
     },
     "metadata": {},
     "output_type": "display_data"
    },
    {
     "data": {
      "application/vnd.jupyter.widget-view+json": {
       "model_id": "c879247f36d746e49bb84e9de4b940cc",
       "version_major": 2,
       "version_minor": 0
      },
      "text/plain": [
       "wds/subj01/train/31.tar:   0%|          | 0.00/8.56M [00:00<?, ?B/s]"
      ]
     },
     "metadata": {},
     "output_type": "display_data"
    },
    {
     "data": {
      "application/vnd.jupyter.widget-view+json": {
       "model_id": "ebfaf366dece425f9def84f0e1fc40aa",
       "version_major": 2,
       "version_minor": 0
      },
      "text/plain": [
       "wds/subj01/train/33.tar:   0%|          | 0.00/8.66M [00:00<?, ?B/s]"
      ]
     },
     "metadata": {},
     "output_type": "display_data"
    },
    {
     "data": {
      "application/vnd.jupyter.widget-view+json": {
       "model_id": "1093c648b7d14dd59f1882166a1a39b1",
       "version_major": 2,
       "version_minor": 0
      },
      "text/plain": [
       "wds/subj01/train/34.tar:   0%|          | 0.00/8.78M [00:00<?, ?B/s]"
      ]
     },
     "metadata": {},
     "output_type": "display_data"
    },
    {
     "data": {
      "application/vnd.jupyter.widget-view+json": {
       "model_id": "f1d6d1160eae4de3a9905c51ce2a527c",
       "version_major": 2,
       "version_minor": 0
      },
      "text/plain": [
       "wds/subj01/train/35.tar:   0%|          | 0.00/8.52M [00:00<?, ?B/s]"
      ]
     },
     "metadata": {},
     "output_type": "display_data"
    },
    {
     "data": {
      "application/vnd.jupyter.widget-view+json": {
       "model_id": "4efc7a03960f4d52a5649707e7a3ff19",
       "version_major": 2,
       "version_minor": 0
      },
      "text/plain": [
       "wds/subj01/train/36.tar:   0%|          | 0.00/8.38M [00:00<?, ?B/s]"
      ]
     },
     "metadata": {},
     "output_type": "display_data"
    },
    {
     "data": {
      "application/vnd.jupyter.widget-view+json": {
       "model_id": "fc0a643cad014198820307c7c7c8b8ef",
       "version_major": 2,
       "version_minor": 0
      },
      "text/plain": [
       "wds/subj01/train/37.tar:   0%|          | 0.00/8.62M [00:00<?, ?B/s]"
      ]
     },
     "metadata": {},
     "output_type": "display_data"
    },
    {
     "data": {
      "application/vnd.jupyter.widget-view+json": {
       "model_id": "28c196ecb9514f5a82c11baabdf7ec28",
       "version_major": 2,
       "version_minor": 0
      },
      "text/plain": [
       "wds/subj01/train/38.tar:   0%|          | 0.00/8.66M [00:00<?, ?B/s]"
      ]
     },
     "metadata": {},
     "output_type": "display_data"
    },
    {
     "data": {
      "application/vnd.jupyter.widget-view+json": {
       "model_id": "5117b168cc374c0e858716e1736c89f3",
       "version_major": 2,
       "version_minor": 0
      },
      "text/plain": [
       "wds/subj01/train/39.tar:   0%|          | 0.00/8.59M [00:00<?, ?B/s]"
      ]
     },
     "metadata": {},
     "output_type": "display_data"
    },
    {
     "data": {
      "application/vnd.jupyter.widget-view+json": {
       "model_id": "7136aad8d918495cb300f3cf366a6611",
       "version_major": 2,
       "version_minor": 0
      },
      "text/plain": [
       "wds/subj01/train/4.tar:   0%|          | 0.00/8.88M [00:00<?, ?B/s]"
      ]
     },
     "metadata": {},
     "output_type": "display_data"
    },
    {
     "data": {
      "application/vnd.jupyter.widget-view+json": {
       "model_id": "241c88033ea3492c9d47437cc251ea54",
       "version_major": 2,
       "version_minor": 0
      },
      "text/plain": [
       "wds/subj01/train/5.tar:   0%|          | 0.00/8.49M [00:00<?, ?B/s]"
      ]
     },
     "metadata": {},
     "output_type": "display_data"
    },
    {
     "data": {
      "application/vnd.jupyter.widget-view+json": {
       "model_id": "d6b61879c15c42cfb9ee06662631ee8d",
       "version_major": 2,
       "version_minor": 0
      },
      "text/plain": [
       "wds/subj01/train/6.tar:   0%|          | 0.00/8.74M [00:00<?, ?B/s]"
      ]
     },
     "metadata": {},
     "output_type": "display_data"
    },
    {
     "data": {
      "application/vnd.jupyter.widget-view+json": {
       "model_id": "68bad13d64404abcb7caf0f1bc301200",
       "version_major": 2,
       "version_minor": 0
      },
      "text/plain": [
       "wds/subj01/train/7.tar:   0%|          | 0.00/8.79M [00:00<?, ?B/s]"
      ]
     },
     "metadata": {},
     "output_type": "display_data"
    },
    {
     "data": {
      "application/vnd.jupyter.widget-view+json": {
       "model_id": "8a3598547f824ae5a71e358e238ca2cd",
       "version_major": 2,
       "version_minor": 0
      },
      "text/plain": [
       "wds/subj01/train/8.tar:   0%|          | 0.00/8.73M [00:00<?, ?B/s]"
      ]
     },
     "metadata": {},
     "output_type": "display_data"
    },
    {
     "data": {
      "application/vnd.jupyter.widget-view+json": {
       "model_id": "b31f395f720b4dce8a6168988ca7e7a4",
       "version_major": 2,
       "version_minor": 0
      },
      "text/plain": [
       "wds/subj01/train/9.tar:   0%|          | 0.00/8.69M [00:00<?, ?B/s]"
      ]
     },
     "metadata": {},
     "output_type": "display_data"
    },
    {
     "data": {
      "application/vnd.jupyter.widget-view+json": {
       "model_id": "f29e1c25945e4a92bf582d8f96e96e1f",
       "version_major": 2,
       "version_minor": 0
      },
      "text/plain": [
       "wds/subj02/new_test/0.tar:   0%|          | 0.00/38.4M [00:00<?, ?B/s]"
      ]
     },
     "metadata": {},
     "output_type": "display_data"
    },
    {
     "data": {
      "application/vnd.jupyter.widget-view+json": {
       "model_id": "77171c5c8f2e4dc1b02710b0262ce870",
       "version_major": 2,
       "version_minor": 0
      },
      "text/plain": [
       "wds/subj02/test/0.tar:   0%|          | 0.00/35.5M [00:00<?, ?B/s]"
      ]
     },
     "metadata": {},
     "output_type": "display_data"
    },
    {
     "data": {
      "application/vnd.jupyter.widget-view+json": {
       "model_id": "3092ed1646cd4f4ab59cb6017d8fd823",
       "version_major": 2,
       "version_minor": 0
      },
      "text/plain": [
       "wds/subj02/train/0.tar:   0%|          | 0.00/8.82M [00:00<?, ?B/s]"
      ]
     },
     "metadata": {},
     "output_type": "display_data"
    },
    {
     "data": {
      "application/vnd.jupyter.widget-view+json": {
       "model_id": "1c1978656894407e8cc980136c3dc329",
       "version_major": 2,
       "version_minor": 0
      },
      "text/plain": [
       "wds/subj02/train/10.tar:   0%|          | 0.00/8.54M [00:00<?, ?B/s]"
      ]
     },
     "metadata": {},
     "output_type": "display_data"
    },
    {
     "data": {
      "application/vnd.jupyter.widget-view+json": {
       "model_id": "bdf4f32d7cd144dc8366db1968368d4c",
       "version_major": 2,
       "version_minor": 0
      },
      "text/plain": [
       "wds/subj02/train/1.tar:   0%|          | 0.00/8.58M [00:00<?, ?B/s]"
      ]
     },
     "metadata": {},
     "output_type": "display_data"
    },
    {
     "data": {
      "application/vnd.jupyter.widget-view+json": {
       "model_id": "51f3a7d0241b4d38b4cb6785d93a94be",
       "version_major": 2,
       "version_minor": 0
      },
      "text/plain": [
       "wds/subj02/train/11.tar:   0%|          | 0.00/8.57M [00:00<?, ?B/s]"
      ]
     },
     "metadata": {},
     "output_type": "display_data"
    },
    {
     "data": {
      "application/vnd.jupyter.widget-view+json": {
       "model_id": "83f480143e8348adb2e34dfeaac5890f",
       "version_major": 2,
       "version_minor": 0
      },
      "text/plain": [
       "wds/subj02/train/13.tar:   0%|          | 0.00/8.53M [00:00<?, ?B/s]"
      ]
     },
     "metadata": {},
     "output_type": "display_data"
    },
    {
     "data": {
      "application/vnd.jupyter.widget-view+json": {
       "model_id": "41fdd8ae6f984f4da5ebf92fc884d2dc",
       "version_major": 2,
       "version_minor": 0
      },
      "text/plain": [
       "wds/subj02/train/12.tar:   0%|          | 0.00/8.84M [00:00<?, ?B/s]"
      ]
     },
     "metadata": {},
     "output_type": "display_data"
    },
    {
     "data": {
      "application/vnd.jupyter.widget-view+json": {
       "model_id": "1b2f52ba5e444e118f2a27ff126eb4d2",
       "version_major": 2,
       "version_minor": 0
      },
      "text/plain": [
       "wds/subj02/train/14.tar:   0%|          | 0.00/8.49M [00:00<?, ?B/s]"
      ]
     },
     "metadata": {},
     "output_type": "display_data"
    },
    {
     "data": {
      "application/vnd.jupyter.widget-view+json": {
       "model_id": "7a01db529d7e4f32b9c486644221487e",
       "version_major": 2,
       "version_minor": 0
      },
      "text/plain": [
       "wds/subj02/train/15.tar:   0%|          | 0.00/8.54M [00:00<?, ?B/s]"
      ]
     },
     "metadata": {},
     "output_type": "display_data"
    },
    {
     "data": {
      "application/vnd.jupyter.widget-view+json": {
       "model_id": "d6b269b1b3c04eda8f7c4611f5378b78",
       "version_major": 2,
       "version_minor": 0
      },
      "text/plain": [
       "wds/subj02/train/16.tar:   0%|          | 0.00/8.72M [00:00<?, ?B/s]"
      ]
     },
     "metadata": {},
     "output_type": "display_data"
    },
    {
     "data": {
      "application/vnd.jupyter.widget-view+json": {
       "model_id": "3865ad4d23d041b8b83b187174a1e1ae",
       "version_major": 2,
       "version_minor": 0
      },
      "text/plain": [
       "wds/subj02/train/18.tar:   0%|          | 0.00/8.71M [00:00<?, ?B/s]"
      ]
     },
     "metadata": {},
     "output_type": "display_data"
    },
    {
     "data": {
      "application/vnd.jupyter.widget-view+json": {
       "model_id": "daa6bb32bc9141bfa8fbb732bec56b2e",
       "version_major": 2,
       "version_minor": 0
      },
      "text/plain": [
       "wds/subj02/train/19.tar:   0%|          | 0.00/8.47M [00:00<?, ?B/s]"
      ]
     },
     "metadata": {},
     "output_type": "display_data"
    },
    {
     "data": {
      "application/vnd.jupyter.widget-view+json": {
       "model_id": "66033f8a5bd147ecb260bcbb0127ace8",
       "version_major": 2,
       "version_minor": 0
      },
      "text/plain": [
       "wds/subj02/train/17.tar:   0%|          | 0.00/8.48M [00:00<?, ?B/s]"
      ]
     },
     "metadata": {},
     "output_type": "display_data"
    },
    {
     "data": {
      "application/vnd.jupyter.widget-view+json": {
       "model_id": "e113ae1105684e60aa10e2fd38d5962d",
       "version_major": 2,
       "version_minor": 0
      },
      "text/plain": [
       "wds/subj02/train/2.tar:   0%|          | 0.00/8.85M [00:00<?, ?B/s]"
      ]
     },
     "metadata": {},
     "output_type": "display_data"
    },
    {
     "data": {
      "application/vnd.jupyter.widget-view+json": {
       "model_id": "bd163cbc906240629fddc4f535327c7d",
       "version_major": 2,
       "version_minor": 0
      },
      "text/plain": [
       "wds/subj02/train/20.tar:   0%|          | 0.00/8.71M [00:00<?, ?B/s]"
      ]
     },
     "metadata": {},
     "output_type": "display_data"
    },
    {
     "data": {
      "application/vnd.jupyter.widget-view+json": {
       "model_id": "07938c21eeae44deb5767b75d43db50d",
       "version_major": 2,
       "version_minor": 0
      },
      "text/plain": [
       "wds/subj02/train/21.tar:   0%|          | 0.00/8.85M [00:00<?, ?B/s]"
      ]
     },
     "metadata": {},
     "output_type": "display_data"
    },
    {
     "data": {
      "application/vnd.jupyter.widget-view+json": {
       "model_id": "16f2e6a8ce6b4b578157d9c587b82c7c",
       "version_major": 2,
       "version_minor": 0
      },
      "text/plain": [
       "wds/subj02/train/22.tar:   0%|          | 0.00/8.64M [00:00<?, ?B/s]"
      ]
     },
     "metadata": {},
     "output_type": "display_data"
    },
    {
     "data": {
      "application/vnd.jupyter.widget-view+json": {
       "model_id": "9b71133bfc864e6e86a26122f3366ab6",
       "version_major": 2,
       "version_minor": 0
      },
      "text/plain": [
       "wds/subj02/train/23.tar:   0%|          | 0.00/8.77M [00:00<?, ?B/s]"
      ]
     },
     "metadata": {},
     "output_type": "display_data"
    },
    {
     "data": {
      "application/vnd.jupyter.widget-view+json": {
       "model_id": "f51208ccc64b4c1ca6c9934ba835bd7e",
       "version_major": 2,
       "version_minor": 0
      },
      "text/plain": [
       "wds/subj02/train/24.tar:   0%|          | 0.00/8.73M [00:00<?, ?B/s]"
      ]
     },
     "metadata": {},
     "output_type": "display_data"
    },
    {
     "data": {
      "application/vnd.jupyter.widget-view+json": {
       "model_id": "8fe7785141824b9a934fc34db67a7148",
       "version_major": 2,
       "version_minor": 0
      },
      "text/plain": [
       "wds/subj02/train/25.tar:   0%|          | 0.00/8.59M [00:00<?, ?B/s]"
      ]
     },
     "metadata": {},
     "output_type": "display_data"
    },
    {
     "data": {
      "application/vnd.jupyter.widget-view+json": {
       "model_id": "f684ac7706104717b83afbbcb3dbe5c0",
       "version_major": 2,
       "version_minor": 0
      },
      "text/plain": [
       "wds/subj02/train/26.tar:   0%|          | 0.00/8.62M [00:00<?, ?B/s]"
      ]
     },
     "metadata": {},
     "output_type": "display_data"
    },
    {
     "data": {
      "application/vnd.jupyter.widget-view+json": {
       "model_id": "6e3410e648ce4130b9350e8d1760e94a",
       "version_major": 2,
       "version_minor": 0
      },
      "text/plain": [
       "wds/subj02/train/27.tar:   0%|          | 0.00/8.74M [00:00<?, ?B/s]"
      ]
     },
     "metadata": {},
     "output_type": "display_data"
    },
    {
     "data": {
      "application/vnd.jupyter.widget-view+json": {
       "model_id": "4397ccb74d564e9696effb80736ee8c8",
       "version_major": 2,
       "version_minor": 0
      },
      "text/plain": [
       "wds/subj02/train/28.tar:   0%|          | 0.00/8.83M [00:00<?, ?B/s]"
      ]
     },
     "metadata": {},
     "output_type": "display_data"
    },
    {
     "data": {
      "application/vnd.jupyter.widget-view+json": {
       "model_id": "804f2efb0d5f4a73a2a2ad61ea4aeb30",
       "version_major": 2,
       "version_minor": 0
      },
      "text/plain": [
       "wds/subj02/train/29.tar:   0%|          | 0.00/8.64M [00:00<?, ?B/s]"
      ]
     },
     "metadata": {},
     "output_type": "display_data"
    },
    {
     "data": {
      "application/vnd.jupyter.widget-view+json": {
       "model_id": "509f75ed9f0343efbd60b2e735da0156",
       "version_major": 2,
       "version_minor": 0
      },
      "text/plain": [
       "wds/subj02/train/3.tar:   0%|          | 0.00/8.56M [00:00<?, ?B/s]"
      ]
     },
     "metadata": {},
     "output_type": "display_data"
    },
    {
     "data": {
      "application/vnd.jupyter.widget-view+json": {
       "model_id": "72cbd21186d2439bb79bed9ae2e5399c",
       "version_major": 2,
       "version_minor": 0
      },
      "text/plain": [
       "wds/subj02/train/30.tar:   0%|          | 0.00/8.31M [00:00<?, ?B/s]"
      ]
     },
     "metadata": {},
     "output_type": "display_data"
    },
    {
     "data": {
      "application/vnd.jupyter.widget-view+json": {
       "model_id": "f69c024a519542e3bf8bb0c2a7c3844e",
       "version_major": 2,
       "version_minor": 0
      },
      "text/plain": [
       "wds/subj02/train/31.tar:   0%|          | 0.00/8.56M [00:00<?, ?B/s]"
      ]
     },
     "metadata": {},
     "output_type": "display_data"
    },
    {
     "data": {
      "application/vnd.jupyter.widget-view+json": {
       "model_id": "279c62fcaba446b5a8e1b186eb04f212",
       "version_major": 2,
       "version_minor": 0
      },
      "text/plain": [
       "wds/subj02/train/32.tar:   0%|          | 0.00/8.59M [00:00<?, ?B/s]"
      ]
     },
     "metadata": {},
     "output_type": "display_data"
    },
    {
     "data": {
      "application/vnd.jupyter.widget-view+json": {
       "model_id": "754ee8853bc7453d9afb07212e25332c",
       "version_major": 2,
       "version_minor": 0
      },
      "text/plain": [
       "wds/subj02/train/34.tar:   0%|          | 0.00/8.78M [00:00<?, ?B/s]"
      ]
     },
     "metadata": {},
     "output_type": "display_data"
    },
    {
     "data": {
      "application/vnd.jupyter.widget-view+json": {
       "model_id": "e21115b71d134c2e9200ee4803b6670c",
       "version_major": 2,
       "version_minor": 0
      },
      "text/plain": [
       "wds/subj02/train/33.tar:   0%|          | 0.00/8.66M [00:00<?, ?B/s]"
      ]
     },
     "metadata": {},
     "output_type": "display_data"
    },
    {
     "data": {
      "application/vnd.jupyter.widget-view+json": {
       "model_id": "cbd70e6a5fc74466b9a63d75d4ef04cd",
       "version_major": 2,
       "version_minor": 0
      },
      "text/plain": [
       "wds/subj02/train/35.tar:   0%|          | 0.00/8.52M [00:00<?, ?B/s]"
      ]
     },
     "metadata": {},
     "output_type": "display_data"
    },
    {
     "data": {
      "application/vnd.jupyter.widget-view+json": {
       "model_id": "6f93716a280d4ddc9f48ea5d901823b7",
       "version_major": 2,
       "version_minor": 0
      },
      "text/plain": [
       "wds/subj02/train/36.tar:   0%|          | 0.00/8.38M [00:00<?, ?B/s]"
      ]
     },
     "metadata": {},
     "output_type": "display_data"
    },
    {
     "data": {
      "application/vnd.jupyter.widget-view+json": {
       "model_id": "dd6292b74acc41e793874c94dd93ac60",
       "version_major": 2,
       "version_minor": 0
      },
      "text/plain": [
       "wds/subj02/train/37.tar:   0%|          | 0.00/8.62M [00:00<?, ?B/s]"
      ]
     },
     "metadata": {},
     "output_type": "display_data"
    },
    {
     "data": {
      "application/vnd.jupyter.widget-view+json": {
       "model_id": "bdaf3669e42e458a8f530b21d228941b",
       "version_major": 2,
       "version_minor": 0
      },
      "text/plain": [
       "wds/subj02/train/38.tar:   0%|          | 0.00/8.66M [00:00<?, ?B/s]"
      ]
     },
     "metadata": {},
     "output_type": "display_data"
    },
    {
     "data": {
      "application/vnd.jupyter.widget-view+json": {
       "model_id": "f279cc76fabf4af58d82f907cd4f1d0d",
       "version_major": 2,
       "version_minor": 0
      },
      "text/plain": [
       "wds/subj02/train/4.tar:   0%|          | 0.00/8.88M [00:00<?, ?B/s]"
      ]
     },
     "metadata": {},
     "output_type": "display_data"
    },
    {
     "data": {
      "application/vnd.jupyter.widget-view+json": {
       "model_id": "feef190c08454a988d58281143b06682",
       "version_major": 2,
       "version_minor": 0
      },
      "text/plain": [
       "wds/subj02/train/5.tar:   0%|          | 0.00/8.49M [00:00<?, ?B/s]"
      ]
     },
     "metadata": {},
     "output_type": "display_data"
    },
    {
     "data": {
      "application/vnd.jupyter.widget-view+json": {
       "model_id": "96cbfff24141408a86ff44c1a043c556",
       "version_major": 2,
       "version_minor": 0
      },
      "text/plain": [
       "wds/subj02/train/39.tar:   0%|          | 0.00/8.59M [00:00<?, ?B/s]"
      ]
     },
     "metadata": {},
     "output_type": "display_data"
    },
    {
     "data": {
      "application/vnd.jupyter.widget-view+json": {
       "model_id": "35420ad7db9042fc86fb2aba99e9ab0e",
       "version_major": 2,
       "version_minor": 0
      },
      "text/plain": [
       "wds/subj02/train/6.tar:   0%|          | 0.00/8.74M [00:00<?, ?B/s]"
      ]
     },
     "metadata": {},
     "output_type": "display_data"
    },
    {
     "data": {
      "application/vnd.jupyter.widget-view+json": {
       "model_id": "4b3ed46cdf3e41df881de895c945d547",
       "version_major": 2,
       "version_minor": 0
      },
      "text/plain": [
       "wds/subj02/train/7.tar:   0%|          | 0.00/8.79M [00:00<?, ?B/s]"
      ]
     },
     "metadata": {},
     "output_type": "display_data"
    },
    {
     "data": {
      "application/vnd.jupyter.widget-view+json": {
       "model_id": "5ceb81278a80478cbd05912486d53c97",
       "version_major": 2,
       "version_minor": 0
      },
      "text/plain": [
       "wds/subj02/train/8.tar:   0%|          | 0.00/8.73M [00:00<?, ?B/s]"
      ]
     },
     "metadata": {},
     "output_type": "display_data"
    },
    {
     "data": {
      "application/vnd.jupyter.widget-view+json": {
       "model_id": "e7d913429759404b8e2e218a1207603e",
       "version_major": 2,
       "version_minor": 0
      },
      "text/plain": [
       "wds/subj02/train/9.tar:   0%|          | 0.00/8.69M [00:00<?, ?B/s]"
      ]
     },
     "metadata": {},
     "output_type": "display_data"
    },
    {
     "data": {
      "application/vnd.jupyter.widget-view+json": {
       "model_id": "f68a5b2e7e8c4d02b8551689952289dc",
       "version_major": 2,
       "version_minor": 0
      },
      "text/plain": [
       "wds/subj03/new_test/0.tar:   0%|          | 0.00/30.4M [00:00<?, ?B/s]"
      ]
     },
     "metadata": {},
     "output_type": "display_data"
    },
    {
     "data": {
      "application/vnd.jupyter.widget-view+json": {
       "model_id": "412525d8aaed49f3a48fe7a9da9a5cdd",
       "version_major": 2,
       "version_minor": 0
      },
      "text/plain": [
       "wds/subj03/test/0.tar:   0%|          | 0.00/27.1M [00:00<?, ?B/s]"
      ]
     },
     "metadata": {},
     "output_type": "display_data"
    },
    {
     "data": {
      "application/vnd.jupyter.widget-view+json": {
       "model_id": "b171efe69fd64a118b8d62afd02966c9",
       "version_major": 2,
       "version_minor": 0
      },
      "text/plain": [
       "wds/subj03/train/0.tar:   0%|          | 0.00/8.82M [00:00<?, ?B/s]"
      ]
     },
     "metadata": {},
     "output_type": "display_data"
    },
    {
     "data": {
      "application/vnd.jupyter.widget-view+json": {
       "model_id": "55403f7f25fd4b919f68e7fbc3e8e5b2",
       "version_major": 2,
       "version_minor": 0
      },
      "text/plain": [
       "wds/subj03/train/1.tar:   0%|          | 0.00/8.58M [00:00<?, ?B/s]"
      ]
     },
     "metadata": {},
     "output_type": "display_data"
    },
    {
     "data": {
      "application/vnd.jupyter.widget-view+json": {
       "model_id": "129859e301834b81b1a2a3d6b55533fb",
       "version_major": 2,
       "version_minor": 0
      },
      "text/plain": [
       "wds/subj03/train/10.tar:   0%|          | 0.00/8.54M [00:00<?, ?B/s]"
      ]
     },
     "metadata": {},
     "output_type": "display_data"
    },
    {
     "data": {
      "application/vnd.jupyter.widget-view+json": {
       "model_id": "9712bd3720a94483b228d29f263320f1",
       "version_major": 2,
       "version_minor": 0
      },
      "text/plain": [
       "wds/subj03/train/12.tar:   0%|          | 0.00/8.84M [00:00<?, ?B/s]"
      ]
     },
     "metadata": {},
     "output_type": "display_data"
    },
    {
     "data": {
      "application/vnd.jupyter.widget-view+json": {
       "model_id": "b579ff3ad3504935999f92d72bb96f6d",
       "version_major": 2,
       "version_minor": 0
      },
      "text/plain": [
       "wds/subj03/train/11.tar:   0%|          | 0.00/8.57M [00:00<?, ?B/s]"
      ]
     },
     "metadata": {},
     "output_type": "display_data"
    },
    {
     "data": {
      "application/vnd.jupyter.widget-view+json": {
       "model_id": "213acb5624f84108b966447c85f841ba",
       "version_major": 2,
       "version_minor": 0
      },
      "text/plain": [
       "wds/subj03/train/15.tar:   0%|          | 0.00/8.54M [00:00<?, ?B/s]"
      ]
     },
     "metadata": {},
     "output_type": "display_data"
    },
    {
     "data": {
      "application/vnd.jupyter.widget-view+json": {
       "model_id": "2fa6095c6555473cacf10a79ac14e392",
       "version_major": 2,
       "version_minor": 0
      },
      "text/plain": [
       "wds/subj03/train/16.tar:   0%|          | 0.00/8.72M [00:00<?, ?B/s]"
      ]
     },
     "metadata": {},
     "output_type": "display_data"
    },
    {
     "data": {
      "application/vnd.jupyter.widget-view+json": {
       "model_id": "c0edbd3e41454b16b85ea21f2d555c1f",
       "version_major": 2,
       "version_minor": 0
      },
      "text/plain": [
       "wds/subj03/train/13.tar:   0%|          | 0.00/8.53M [00:00<?, ?B/s]"
      ]
     },
     "metadata": {},
     "output_type": "display_data"
    },
    {
     "data": {
      "application/vnd.jupyter.widget-view+json": {
       "model_id": "58e6251410724abf9ce18fe5b886a3f2",
       "version_major": 2,
       "version_minor": 0
      },
      "text/plain": [
       "wds/subj03/train/14.tar:   0%|          | 0.00/8.49M [00:00<?, ?B/s]"
      ]
     },
     "metadata": {},
     "output_type": "display_data"
    },
    {
     "data": {
      "application/vnd.jupyter.widget-view+json": {
       "model_id": "3438e4963f8644b0b75792aa1308bfb4",
       "version_major": 2,
       "version_minor": 0
      },
      "text/plain": [
       "wds/subj03/train/17.tar:   0%|          | 0.00/8.48M [00:00<?, ?B/s]"
      ]
     },
     "metadata": {},
     "output_type": "display_data"
    },
    {
     "data": {
      "application/vnd.jupyter.widget-view+json": {
       "model_id": "e8192a990c1a4288b363d5bd62469dee",
       "version_major": 2,
       "version_minor": 0
      },
      "text/plain": [
       "wds/subj03/train/18.tar:   0%|          | 0.00/8.71M [00:00<?, ?B/s]"
      ]
     },
     "metadata": {},
     "output_type": "display_data"
    },
    {
     "data": {
      "application/vnd.jupyter.widget-view+json": {
       "model_id": "e85248c3f408418693d20820dd5f9322",
       "version_major": 2,
       "version_minor": 0
      },
      "text/plain": [
       "wds/subj03/train/19.tar:   0%|          | 0.00/8.47M [00:00<?, ?B/s]"
      ]
     },
     "metadata": {},
     "output_type": "display_data"
    },
    {
     "data": {
      "application/vnd.jupyter.widget-view+json": {
       "model_id": "d6df070e355c40df917eff8180b439e8",
       "version_major": 2,
       "version_minor": 0
      },
      "text/plain": [
       "wds/subj03/train/2.tar:   0%|          | 0.00/8.85M [00:00<?, ?B/s]"
      ]
     },
     "metadata": {},
     "output_type": "display_data"
    },
    {
     "data": {
      "application/vnd.jupyter.widget-view+json": {
       "model_id": "023ce4e5077142fd8bf74c20f4b19cfe",
       "version_major": 2,
       "version_minor": 0
      },
      "text/plain": [
       "wds/subj03/train/20.tar:   0%|          | 0.00/8.71M [00:00<?, ?B/s]"
      ]
     },
     "metadata": {},
     "output_type": "display_data"
    },
    {
     "data": {
      "application/vnd.jupyter.widget-view+json": {
       "model_id": "f6dc39a3af074db8a1b95dcf3e3ad3c6",
       "version_major": 2,
       "version_minor": 0
      },
      "text/plain": [
       "wds/subj03/train/21.tar:   0%|          | 0.00/8.85M [00:00<?, ?B/s]"
      ]
     },
     "metadata": {},
     "output_type": "display_data"
    },
    {
     "data": {
      "application/vnd.jupyter.widget-view+json": {
       "model_id": "1762f2fd244c4f379bb88bce2a9f7323",
       "version_major": 2,
       "version_minor": 0
      },
      "text/plain": [
       "wds/subj03/train/22.tar:   0%|          | 0.00/8.64M [00:00<?, ?B/s]"
      ]
     },
     "metadata": {},
     "output_type": "display_data"
    },
    {
     "data": {
      "application/vnd.jupyter.widget-view+json": {
       "model_id": "d38abdf748fd4782b9b0e745d9ac4ef5",
       "version_major": 2,
       "version_minor": 0
      },
      "text/plain": [
       "wds/subj03/train/23.tar:   0%|          | 0.00/8.77M [00:00<?, ?B/s]"
      ]
     },
     "metadata": {},
     "output_type": "display_data"
    },
    {
     "data": {
      "application/vnd.jupyter.widget-view+json": {
       "model_id": "9b5cbf8e316e4f4497b4e67fd68fea84",
       "version_major": 2,
       "version_minor": 0
      },
      "text/plain": [
       "wds/subj03/train/24.tar:   0%|          | 0.00/8.73M [00:00<?, ?B/s]"
      ]
     },
     "metadata": {},
     "output_type": "display_data"
    },
    {
     "data": {
      "application/vnd.jupyter.widget-view+json": {
       "model_id": "11435a4bfb57404e9b208bdb4b16f567",
       "version_major": 2,
       "version_minor": 0
      },
      "text/plain": [
       "wds/subj03/train/25.tar:   0%|          | 0.00/8.59M [00:00<?, ?B/s]"
      ]
     },
     "metadata": {},
     "output_type": "display_data"
    },
    {
     "data": {
      "application/vnd.jupyter.widget-view+json": {
       "model_id": "bd06d113206245b48b1c17e4a6ffbdfc",
       "version_major": 2,
       "version_minor": 0
      },
      "text/plain": [
       "wds/subj03/train/26.tar:   0%|          | 0.00/8.62M [00:00<?, ?B/s]"
      ]
     },
     "metadata": {},
     "output_type": "display_data"
    },
    {
     "data": {
      "application/vnd.jupyter.widget-view+json": {
       "model_id": "aa773bebffa84310bc591c908098f881",
       "version_major": 2,
       "version_minor": 0
      },
      "text/plain": [
       "wds/subj03/train/27.tar:   0%|          | 0.00/8.74M [00:00<?, ?B/s]"
      ]
     },
     "metadata": {},
     "output_type": "display_data"
    },
    {
     "data": {
      "application/vnd.jupyter.widget-view+json": {
       "model_id": "05fd0cad3ca94d519b46a60ca3991137",
       "version_major": 2,
       "version_minor": 0
      },
      "text/plain": [
       "wds/subj03/train/28.tar:   0%|          | 0.00/8.83M [00:00<?, ?B/s]"
      ]
     },
     "metadata": {},
     "output_type": "display_data"
    },
    {
     "data": {
      "application/vnd.jupyter.widget-view+json": {
       "model_id": "babe825a3b984143a56e5463b3778996",
       "version_major": 2,
       "version_minor": 0
      },
      "text/plain": [
       "wds/subj03/train/29.tar:   0%|          | 0.00/8.64M [00:00<?, ?B/s]"
      ]
     },
     "metadata": {},
     "output_type": "display_data"
    },
    {
     "data": {
      "application/vnd.jupyter.widget-view+json": {
       "model_id": "7ef2095e0bbb451fa0d5c887fef1691e",
       "version_major": 2,
       "version_minor": 0
      },
      "text/plain": [
       "wds/subj03/train/3.tar:   0%|          | 0.00/8.56M [00:00<?, ?B/s]"
      ]
     },
     "metadata": {},
     "output_type": "display_data"
    },
    {
     "data": {
      "application/vnd.jupyter.widget-view+json": {
       "model_id": "c2982c9de0cc4e86baa1c845dad57ce8",
       "version_major": 2,
       "version_minor": 0
      },
      "text/plain": [
       "wds/subj03/train/30.tar:   0%|          | 0.00/8.31M [00:00<?, ?B/s]"
      ]
     },
     "metadata": {},
     "output_type": "display_data"
    },
    {
     "data": {
      "application/vnd.jupyter.widget-view+json": {
       "model_id": "d5344a5523f24f788137955d7aa89bc0",
       "version_major": 2,
       "version_minor": 0
      },
      "text/plain": [
       "wds/subj03/train/4.tar:   0%|          | 0.00/8.88M [00:00<?, ?B/s]"
      ]
     },
     "metadata": {},
     "output_type": "display_data"
    },
    {
     "data": {
      "application/vnd.jupyter.widget-view+json": {
       "model_id": "0f4c71b2aea649e98b4c8e59888a93fb",
       "version_major": 2,
       "version_minor": 0
      },
      "text/plain": [
       "wds/subj03/train/31.tar:   0%|          | 0.00/8.56M [00:00<?, ?B/s]"
      ]
     },
     "metadata": {},
     "output_type": "display_data"
    },
    {
     "data": {
      "application/vnd.jupyter.widget-view+json": {
       "model_id": "59b81122b7d443c1b44a32839145f008",
       "version_major": 2,
       "version_minor": 0
      },
      "text/plain": [
       "wds/subj03/train/5.tar:   0%|          | 0.00/8.49M [00:00<?, ?B/s]"
      ]
     },
     "metadata": {},
     "output_type": "display_data"
    },
    {
     "data": {
      "application/vnd.jupyter.widget-view+json": {
       "model_id": "303165d02ff4447dba0bfc3d3e8324b4",
       "version_major": 2,
       "version_minor": 0
      },
      "text/plain": [
       "wds/subj03/train/7.tar:   0%|          | 0.00/8.79M [00:00<?, ?B/s]"
      ]
     },
     "metadata": {},
     "output_type": "display_data"
    },
    {
     "data": {
      "application/vnd.jupyter.widget-view+json": {
       "model_id": "02c28dcaa79a44aa824d3baade3976e0",
       "version_major": 2,
       "version_minor": 0
      },
      "text/plain": [
       "wds/subj03/train/6.tar:   0%|          | 0.00/8.74M [00:00<?, ?B/s]"
      ]
     },
     "metadata": {},
     "output_type": "display_data"
    },
    {
     "data": {
      "application/vnd.jupyter.widget-view+json": {
       "model_id": "b896998aa3e049adaee52c55a960a7dc",
       "version_major": 2,
       "version_minor": 0
      },
      "text/plain": [
       "wds/subj03/train/8.tar:   0%|          | 0.00/8.73M [00:00<?, ?B/s]"
      ]
     },
     "metadata": {},
     "output_type": "display_data"
    },
    {
     "data": {
      "application/vnd.jupyter.widget-view+json": {
       "model_id": "dfdb6d5bb32748fca2222e7ae9f381fa",
       "version_major": 2,
       "version_minor": 0
      },
      "text/plain": [
       "wds/subj03/train/9.tar:   0%|          | 0.00/8.69M [00:00<?, ?B/s]"
      ]
     },
     "metadata": {},
     "output_type": "display_data"
    },
    {
     "data": {
      "application/vnd.jupyter.widget-view+json": {
       "model_id": "a81bcd80b4b241308a6215ce32a99924",
       "version_major": 2,
       "version_minor": 0
      },
      "text/plain": [
       "wds/subj04/new_test/0.tar:   0%|          | 0.00/28.0M [00:00<?, ?B/s]"
      ]
     },
     "metadata": {},
     "output_type": "display_data"
    },
    {
     "data": {
      "application/vnd.jupyter.widget-view+json": {
       "model_id": "e2d2a9aa55774c78b99e360031b79902",
       "version_major": 2,
       "version_minor": 0
      },
      "text/plain": [
       "wds/subj04/test/0.tar:   0%|          | 0.00/25.4M [00:00<?, ?B/s]"
      ]
     },
     "metadata": {},
     "output_type": "display_data"
    },
    {
     "data": {
      "application/vnd.jupyter.widget-view+json": {
       "model_id": "e2076e9c313b4433a1318d99996be869",
       "version_major": 2,
       "version_minor": 0
      },
      "text/plain": [
       "wds/subj04/train/0.tar:   0%|          | 0.00/8.82M [00:00<?, ?B/s]"
      ]
     },
     "metadata": {},
     "output_type": "display_data"
    },
    {
     "data": {
      "application/vnd.jupyter.widget-view+json": {
       "model_id": "80aab15f771a4ae289df3efdf4e7fac0",
       "version_major": 2,
       "version_minor": 0
      },
      "text/plain": [
       "wds/subj04/train/10.tar:   0%|          | 0.00/8.54M [00:00<?, ?B/s]"
      ]
     },
     "metadata": {},
     "output_type": "display_data"
    },
    {
     "data": {
      "application/vnd.jupyter.widget-view+json": {
       "model_id": "84f235dfcb4a4bb183e340ab4e67184a",
       "version_major": 2,
       "version_minor": 0
      },
      "text/plain": [
       "wds/subj04/train/1.tar:   0%|          | 0.00/8.58M [00:00<?, ?B/s]"
      ]
     },
     "metadata": {},
     "output_type": "display_data"
    },
    {
     "data": {
      "application/vnd.jupyter.widget-view+json": {
       "model_id": "8d6cbad4419f42c0825c4bdaf2597b75",
       "version_major": 2,
       "version_minor": 0
      },
      "text/plain": [
       "wds/subj04/train/12.tar:   0%|          | 0.00/8.84M [00:00<?, ?B/s]"
      ]
     },
     "metadata": {},
     "output_type": "display_data"
    },
    {
     "data": {
      "application/vnd.jupyter.widget-view+json": {
       "model_id": "86ef373416464526969957224fe19ce8",
       "version_major": 2,
       "version_minor": 0
      },
      "text/plain": [
       "wds/subj04/train/11.tar:   0%|          | 0.00/8.57M [00:00<?, ?B/s]"
      ]
     },
     "metadata": {},
     "output_type": "display_data"
    },
    {
     "data": {
      "application/vnd.jupyter.widget-view+json": {
       "model_id": "408720ce999248a2a51faef73edec6d9",
       "version_major": 2,
       "version_minor": 0
      },
      "text/plain": [
       "wds/subj04/train/13.tar:   0%|          | 0.00/8.53M [00:00<?, ?B/s]"
      ]
     },
     "metadata": {},
     "output_type": "display_data"
    },
    {
     "data": {
      "application/vnd.jupyter.widget-view+json": {
       "model_id": "5bfcd6b193bb465c99ef4eb24f76b020",
       "version_major": 2,
       "version_minor": 0
      },
      "text/plain": [
       "wds/subj04/train/14.tar:   0%|          | 0.00/8.49M [00:00<?, ?B/s]"
      ]
     },
     "metadata": {},
     "output_type": "display_data"
    },
    {
     "data": {
      "application/vnd.jupyter.widget-view+json": {
       "model_id": "abf242b50d864371a9ce3a7855749e21",
       "version_major": 2,
       "version_minor": 0
      },
      "text/plain": [
       "wds/subj04/train/15.tar:   0%|          | 0.00/8.54M [00:00<?, ?B/s]"
      ]
     },
     "metadata": {},
     "output_type": "display_data"
    },
    {
     "data": {
      "application/vnd.jupyter.widget-view+json": {
       "model_id": "0781a2c3a35748e28290dd6a2ec67729",
       "version_major": 2,
       "version_minor": 0
      },
      "text/plain": [
       "wds/subj04/train/16.tar:   0%|          | 0.00/8.72M [00:00<?, ?B/s]"
      ]
     },
     "metadata": {},
     "output_type": "display_data"
    },
    {
     "data": {
      "application/vnd.jupyter.widget-view+json": {
       "model_id": "354eb91d6a924c63b1a8b5ecbb6e62d7",
       "version_major": 2,
       "version_minor": 0
      },
      "text/plain": [
       "wds/subj04/train/17.tar:   0%|          | 0.00/8.48M [00:00<?, ?B/s]"
      ]
     },
     "metadata": {},
     "output_type": "display_data"
    },
    {
     "data": {
      "application/vnd.jupyter.widget-view+json": {
       "model_id": "f394cb55d35547879edf94d3b18cecca",
       "version_major": 2,
       "version_minor": 0
      },
      "text/plain": [
       "wds/subj04/train/18.tar:   0%|          | 0.00/8.71M [00:00<?, ?B/s]"
      ]
     },
     "metadata": {},
     "output_type": "display_data"
    },
    {
     "data": {
      "application/vnd.jupyter.widget-view+json": {
       "model_id": "e6edcbc6aa884b858c0122c77fd50fc8",
       "version_major": 2,
       "version_minor": 0
      },
      "text/plain": [
       "wds/subj04/train/19.tar:   0%|          | 0.00/8.47M [00:00<?, ?B/s]"
      ]
     },
     "metadata": {},
     "output_type": "display_data"
    },
    {
     "data": {
      "application/vnd.jupyter.widget-view+json": {
       "model_id": "e2af85b9e593481199d1c13d050cb597",
       "version_major": 2,
       "version_minor": 0
      },
      "text/plain": [
       "wds/subj04/train/20.tar:   0%|          | 0.00/8.71M [00:00<?, ?B/s]"
      ]
     },
     "metadata": {},
     "output_type": "display_data"
    },
    {
     "data": {
      "application/vnd.jupyter.widget-view+json": {
       "model_id": "7e503c1e908c4507824b4861413ae868",
       "version_major": 2,
       "version_minor": 0
      },
      "text/plain": [
       "wds/subj04/train/2.tar:   0%|          | 0.00/8.85M [00:00<?, ?B/s]"
      ]
     },
     "metadata": {},
     "output_type": "display_data"
    },
    {
     "data": {
      "application/vnd.jupyter.widget-view+json": {
       "model_id": "20246b93e15e40038fe49e57c699bab9",
       "version_major": 2,
       "version_minor": 0
      },
      "text/plain": [
       "wds/subj04/train/21.tar:   0%|          | 0.00/8.85M [00:00<?, ?B/s]"
      ]
     },
     "metadata": {},
     "output_type": "display_data"
    },
    {
     "data": {
      "application/vnd.jupyter.widget-view+json": {
       "model_id": "c781dc9fecf24f789a05301cdab5ac81",
       "version_major": 2,
       "version_minor": 0
      },
      "text/plain": [
       "wds/subj04/train/22.tar:   0%|          | 0.00/8.64M [00:00<?, ?B/s]"
      ]
     },
     "metadata": {},
     "output_type": "display_data"
    },
    {
     "data": {
      "application/vnd.jupyter.widget-view+json": {
       "model_id": "a35148de335a4ca58f9dd7509f3b0d48",
       "version_major": 2,
       "version_minor": 0
      },
      "text/plain": [
       "wds/subj04/train/23.tar:   0%|          | 0.00/8.77M [00:00<?, ?B/s]"
      ]
     },
     "metadata": {},
     "output_type": "display_data"
    },
    {
     "data": {
      "application/vnd.jupyter.widget-view+json": {
       "model_id": "47295aca1b9448d5b2f71b8742c6c7e4",
       "version_major": 2,
       "version_minor": 0
      },
      "text/plain": [
       "wds/subj04/train/24.tar:   0%|          | 0.00/8.73M [00:00<?, ?B/s]"
      ]
     },
     "metadata": {},
     "output_type": "display_data"
    },
    {
     "data": {
      "application/vnd.jupyter.widget-view+json": {
       "model_id": "be62e8043181478191db3d19ba434c25",
       "version_major": 2,
       "version_minor": 0
      },
      "text/plain": [
       "wds/subj04/train/25.tar:   0%|          | 0.00/8.59M [00:00<?, ?B/s]"
      ]
     },
     "metadata": {},
     "output_type": "display_data"
    },
    {
     "data": {
      "application/vnd.jupyter.widget-view+json": {
       "model_id": "7b6e3d615d4b4523837467e471d82ee3",
       "version_major": 2,
       "version_minor": 0
      },
      "text/plain": [
       "wds/subj04/train/27.tar:   0%|          | 0.00/8.74M [00:00<?, ?B/s]"
      ]
     },
     "metadata": {},
     "output_type": "display_data"
    },
    {
     "data": {
      "application/vnd.jupyter.widget-view+json": {
       "model_id": "6279ecac23bf43f28d4658902666326e",
       "version_major": 2,
       "version_minor": 0
      },
      "text/plain": [
       "wds/subj04/train/26.tar:   0%|          | 0.00/8.62M [00:00<?, ?B/s]"
      ]
     },
     "metadata": {},
     "output_type": "display_data"
    },
    {
     "data": {
      "application/vnd.jupyter.widget-view+json": {
       "model_id": "7779a48d82a44e8d8f34b5e484502c88",
       "version_major": 2,
       "version_minor": 0
      },
      "text/plain": [
       "wds/subj04/train/28.tar:   0%|          | 0.00/8.83M [00:00<?, ?B/s]"
      ]
     },
     "metadata": {},
     "output_type": "display_data"
    },
    {
     "data": {
      "application/vnd.jupyter.widget-view+json": {
       "model_id": "92184185417f400e8ef06284eedc54fc",
       "version_major": 2,
       "version_minor": 0
      },
      "text/plain": [
       "wds/subj04/train/29.tar:   0%|          | 0.00/8.64M [00:00<?, ?B/s]"
      ]
     },
     "metadata": {},
     "output_type": "display_data"
    },
    {
     "data": {
      "application/vnd.jupyter.widget-view+json": {
       "model_id": "53ae24f076c34077bb8301fc6db383da",
       "version_major": 2,
       "version_minor": 0
      },
      "text/plain": [
       "wds/subj04/train/3.tar:   0%|          | 0.00/8.56M [00:00<?, ?B/s]"
      ]
     },
     "metadata": {},
     "output_type": "display_data"
    },
    {
     "data": {
      "application/vnd.jupyter.widget-view+json": {
       "model_id": "9354bd2fd35247d7b68eb48be9e7b5a3",
       "version_major": 2,
       "version_minor": 0
      },
      "text/plain": [
       "wds/subj04/train/4.tar:   0%|          | 0.00/8.88M [00:00<?, ?B/s]"
      ]
     },
     "metadata": {},
     "output_type": "display_data"
    },
    {
     "data": {
      "application/vnd.jupyter.widget-view+json": {
       "model_id": "685525e57415402890547a308ef0d04e",
       "version_major": 2,
       "version_minor": 0
      },
      "text/plain": [
       "wds/subj04/train/6.tar:   0%|          | 0.00/8.74M [00:00<?, ?B/s]"
      ]
     },
     "metadata": {},
     "output_type": "display_data"
    },
    {
     "data": {
      "application/vnd.jupyter.widget-view+json": {
       "model_id": "d48c5542ac1d48df8f4530fca1e25179",
       "version_major": 2,
       "version_minor": 0
      },
      "text/plain": [
       "wds/subj04/train/5.tar:   0%|          | 0.00/8.49M [00:00<?, ?B/s]"
      ]
     },
     "metadata": {},
     "output_type": "display_data"
    },
    {
     "data": {
      "application/vnd.jupyter.widget-view+json": {
       "model_id": "f5607d8126bb420bab94ea88b65c77f6",
       "version_major": 2,
       "version_minor": 0
      },
      "text/plain": [
       "wds/subj04/train/7.tar:   0%|          | 0.00/8.79M [00:00<?, ?B/s]"
      ]
     },
     "metadata": {},
     "output_type": "display_data"
    },
    {
     "data": {
      "application/vnd.jupyter.widget-view+json": {
       "model_id": "2ee1836c065145eaa90138c73fb73b78",
       "version_major": 2,
       "version_minor": 0
      },
      "text/plain": [
       "wds/subj04/train/8.tar:   0%|          | 0.00/8.73M [00:00<?, ?B/s]"
      ]
     },
     "metadata": {},
     "output_type": "display_data"
    },
    {
     "data": {
      "application/vnd.jupyter.widget-view+json": {
       "model_id": "382d2e791162457da4f1dc8cd44967cd",
       "version_major": 2,
       "version_minor": 0
      },
      "text/plain": [
       "wds/subj04/train/9.tar:   0%|          | 0.00/8.69M [00:00<?, ?B/s]"
      ]
     },
     "metadata": {},
     "output_type": "display_data"
    },
    {
     "data": {
      "application/vnd.jupyter.widget-view+json": {
       "model_id": "a26cfc4c680047ee87fcbeb29e98c500",
       "version_major": 2,
       "version_minor": 0
      },
      "text/plain": [
       "wds/subj05/new_test/0.tar:   0%|          | 0.00/38.4M [00:00<?, ?B/s]"
      ]
     },
     "metadata": {},
     "output_type": "display_data"
    },
    {
     "data": {
      "application/vnd.jupyter.widget-view+json": {
       "model_id": "e46a18ec5f5a4f5ba7b67b078a6c617e",
       "version_major": 2,
       "version_minor": 0
      },
      "text/plain": [
       "wds/subj05/test/0.tar:   0%|          | 0.00/35.5M [00:00<?, ?B/s]"
      ]
     },
     "metadata": {},
     "output_type": "display_data"
    },
    {
     "data": {
      "application/vnd.jupyter.widget-view+json": {
       "model_id": "a275abc9a40e4e3fa1ddddc5db2d8676",
       "version_major": 2,
       "version_minor": 0
      },
      "text/plain": [
       "wds/subj05/train/0.tar:   0%|          | 0.00/8.82M [00:00<?, ?B/s]"
      ]
     },
     "metadata": {},
     "output_type": "display_data"
    },
    {
     "data": {
      "application/vnd.jupyter.widget-view+json": {
       "model_id": "fbf6113555864ed2b33a51672fcddd66",
       "version_major": 2,
       "version_minor": 0
      },
      "text/plain": [
       "wds/subj05/train/10.tar:   0%|          | 0.00/8.54M [00:00<?, ?B/s]"
      ]
     },
     "metadata": {},
     "output_type": "display_data"
    },
    {
     "data": {
      "application/vnd.jupyter.widget-view+json": {
       "model_id": "da54b7e0855841f98fc652da77934603",
       "version_major": 2,
       "version_minor": 0
      },
      "text/plain": [
       "wds/subj05/train/1.tar:   0%|          | 0.00/8.58M [00:00<?, ?B/s]"
      ]
     },
     "metadata": {},
     "output_type": "display_data"
    },
    {
     "data": {
      "application/vnd.jupyter.widget-view+json": {
       "model_id": "1485555bdf1145f9ae149562fce14eb9",
       "version_major": 2,
       "version_minor": 0
      },
      "text/plain": [
       "wds/subj05/train/11.tar:   0%|          | 0.00/8.57M [00:00<?, ?B/s]"
      ]
     },
     "metadata": {},
     "output_type": "display_data"
    },
    {
     "data": {
      "application/vnd.jupyter.widget-view+json": {
       "model_id": "32e62ae793ff4b83adb76ae41fdbdaf7",
       "version_major": 2,
       "version_minor": 0
      },
      "text/plain": [
       "wds/subj05/train/12.tar:   0%|          | 0.00/8.84M [00:00<?, ?B/s]"
      ]
     },
     "metadata": {},
     "output_type": "display_data"
    },
    {
     "data": {
      "application/vnd.jupyter.widget-view+json": {
       "model_id": "04cb0848696b467e85e7e7373860974a",
       "version_major": 2,
       "version_minor": 0
      },
      "text/plain": [
       "wds/subj05/train/13.tar:   0%|          | 0.00/8.53M [00:00<?, ?B/s]"
      ]
     },
     "metadata": {},
     "output_type": "display_data"
    },
    {
     "data": {
      "application/vnd.jupyter.widget-view+json": {
       "model_id": "91f0175c600543ae91c77dbe3695291a",
       "version_major": 2,
       "version_minor": 0
      },
      "text/plain": [
       "wds/subj05/train/14.tar:   0%|          | 0.00/8.49M [00:00<?, ?B/s]"
      ]
     },
     "metadata": {},
     "output_type": "display_data"
    },
    {
     "data": {
      "application/vnd.jupyter.widget-view+json": {
       "model_id": "b63b8726ff67408aa21be25687a351d1",
       "version_major": 2,
       "version_minor": 0
      },
      "text/plain": [
       "wds/subj05/train/15.tar:   0%|          | 0.00/8.54M [00:00<?, ?B/s]"
      ]
     },
     "metadata": {},
     "output_type": "display_data"
    },
    {
     "data": {
      "application/vnd.jupyter.widget-view+json": {
       "model_id": "4e7a75f1d7aa4ca58138053ee04e8bbc",
       "version_major": 2,
       "version_minor": 0
      },
      "text/plain": [
       "wds/subj05/train/16.tar:   0%|          | 0.00/8.72M [00:00<?, ?B/s]"
      ]
     },
     "metadata": {},
     "output_type": "display_data"
    },
    {
     "data": {
      "application/vnd.jupyter.widget-view+json": {
       "model_id": "ebf28b39c1ce48c5ae3096df2ff53f77",
       "version_major": 2,
       "version_minor": 0
      },
      "text/plain": [
       "wds/subj05/train/17.tar:   0%|          | 0.00/8.48M [00:00<?, ?B/s]"
      ]
     },
     "metadata": {},
     "output_type": "display_data"
    },
    {
     "data": {
      "application/vnd.jupyter.widget-view+json": {
       "model_id": "06f790af81bf4755b89bf1b47a1b372d",
       "version_major": 2,
       "version_minor": 0
      },
      "text/plain": [
       "wds/subj05/train/18.tar:   0%|          | 0.00/8.71M [00:00<?, ?B/s]"
      ]
     },
     "metadata": {},
     "output_type": "display_data"
    },
    {
     "data": {
      "application/vnd.jupyter.widget-view+json": {
       "model_id": "141cbb517680460fa924fa6c67604e93",
       "version_major": 2,
       "version_minor": 0
      },
      "text/plain": [
       "wds/subj05/train/19.tar:   0%|          | 0.00/8.47M [00:00<?, ?B/s]"
      ]
     },
     "metadata": {},
     "output_type": "display_data"
    },
    {
     "data": {
      "application/vnd.jupyter.widget-view+json": {
       "model_id": "b45a3128e0ed48bda9fe326490125871",
       "version_major": 2,
       "version_minor": 0
      },
      "text/plain": [
       "wds/subj05/train/2.tar:   0%|          | 0.00/8.85M [00:00<?, ?B/s]"
      ]
     },
     "metadata": {},
     "output_type": "display_data"
    },
    {
     "data": {
      "application/vnd.jupyter.widget-view+json": {
       "model_id": "4169c1d806164cb3aaeda11c69d1e7a2",
       "version_major": 2,
       "version_minor": 0
      },
      "text/plain": [
       "wds/subj05/train/20.tar:   0%|          | 0.00/8.71M [00:00<?, ?B/s]"
      ]
     },
     "metadata": {},
     "output_type": "display_data"
    },
    {
     "data": {
      "application/vnd.jupyter.widget-view+json": {
       "model_id": "49f63bdf140c4c47b02ec83bd093a3e7",
       "version_major": 2,
       "version_minor": 0
      },
      "text/plain": [
       "wds/subj05/train/21.tar:   0%|          | 0.00/8.85M [00:00<?, ?B/s]"
      ]
     },
     "metadata": {},
     "output_type": "display_data"
    },
    {
     "data": {
      "application/vnd.jupyter.widget-view+json": {
       "model_id": "36d3c72c28144aa28f9b3acfb8ddefaa",
       "version_major": 2,
       "version_minor": 0
      },
      "text/plain": [
       "wds/subj05/train/22.tar:   0%|          | 0.00/8.64M [00:00<?, ?B/s]"
      ]
     },
     "metadata": {},
     "output_type": "display_data"
    },
    {
     "data": {
      "application/vnd.jupyter.widget-view+json": {
       "model_id": "6442815f861648b6ba95dd78c023ba44",
       "version_major": 2,
       "version_minor": 0
      },
      "text/plain": [
       "wds/subj05/train/23.tar:   0%|          | 0.00/8.77M [00:00<?, ?B/s]"
      ]
     },
     "metadata": {},
     "output_type": "display_data"
    },
    {
     "data": {
      "application/vnd.jupyter.widget-view+json": {
       "model_id": "68d12195d7bb4d22a9d2fe1013958cf5",
       "version_major": 2,
       "version_minor": 0
      },
      "text/plain": [
       "wds/subj05/train/24.tar:   0%|          | 0.00/8.73M [00:00<?, ?B/s]"
      ]
     },
     "metadata": {},
     "output_type": "display_data"
    },
    {
     "data": {
      "application/vnd.jupyter.widget-view+json": {
       "model_id": "7da0be6db58f40148a46da7e3bf5f343",
       "version_major": 2,
       "version_minor": 0
      },
      "text/plain": [
       "wds/subj05/train/25.tar:   0%|          | 0.00/8.59M [00:00<?, ?B/s]"
      ]
     },
     "metadata": {},
     "output_type": "display_data"
    },
    {
     "data": {
      "application/vnd.jupyter.widget-view+json": {
       "model_id": "e9d6710d1f734fc49ee444ed51dc6b1d",
       "version_major": 2,
       "version_minor": 0
      },
      "text/plain": [
       "wds/subj05/train/26.tar:   0%|          | 0.00/8.62M [00:00<?, ?B/s]"
      ]
     },
     "metadata": {},
     "output_type": "display_data"
    },
    {
     "data": {
      "application/vnd.jupyter.widget-view+json": {
       "model_id": "4548532ac5da4c3ba371762a2f111294",
       "version_major": 2,
       "version_minor": 0
      },
      "text/plain": [
       "wds/subj05/train/27.tar:   0%|          | 0.00/8.74M [00:00<?, ?B/s]"
      ]
     },
     "metadata": {},
     "output_type": "display_data"
    },
    {
     "data": {
      "application/vnd.jupyter.widget-view+json": {
       "model_id": "e58a71c4f1944793883e3864e8c49749",
       "version_major": 2,
       "version_minor": 0
      },
      "text/plain": [
       "wds/subj05/train/28.tar:   0%|          | 0.00/8.83M [00:00<?, ?B/s]"
      ]
     },
     "metadata": {},
     "output_type": "display_data"
    },
    {
     "data": {
      "application/vnd.jupyter.widget-view+json": {
       "model_id": "ccd237cbe38540b9bc7313783c41481d",
       "version_major": 2,
       "version_minor": 0
      },
      "text/plain": [
       "wds/subj05/train/29.tar:   0%|          | 0.00/8.64M [00:00<?, ?B/s]"
      ]
     },
     "metadata": {},
     "output_type": "display_data"
    },
    {
     "data": {
      "application/vnd.jupyter.widget-view+json": {
       "model_id": "036aea27c83c4f2eb4e25e0230ac0d93",
       "version_major": 2,
       "version_minor": 0
      },
      "text/plain": [
       "wds/subj05/train/3.tar:   0%|          | 0.00/8.56M [00:00<?, ?B/s]"
      ]
     },
     "metadata": {},
     "output_type": "display_data"
    },
    {
     "data": {
      "application/vnd.jupyter.widget-view+json": {
       "model_id": "e8c60ba4da2542e6b2584ad5c06b266e",
       "version_major": 2,
       "version_minor": 0
      },
      "text/plain": [
       "wds/subj05/train/30.tar:   0%|          | 0.00/8.31M [00:00<?, ?B/s]"
      ]
     },
     "metadata": {},
     "output_type": "display_data"
    },
    {
     "data": {
      "application/vnd.jupyter.widget-view+json": {
       "model_id": "4cab729d88b649f1b788bc31b118171e",
       "version_major": 2,
       "version_minor": 0
      },
      "text/plain": [
       "wds/subj05/train/31.tar:   0%|          | 0.00/8.56M [00:00<?, ?B/s]"
      ]
     },
     "metadata": {},
     "output_type": "display_data"
    },
    {
     "data": {
      "application/vnd.jupyter.widget-view+json": {
       "model_id": "759208f315234c91b92686db6b4cb515",
       "version_major": 2,
       "version_minor": 0
      },
      "text/plain": [
       "wds/subj05/train/32.tar:   0%|          | 0.00/8.59M [00:00<?, ?B/s]"
      ]
     },
     "metadata": {},
     "output_type": "display_data"
    },
    {
     "data": {
      "application/vnd.jupyter.widget-view+json": {
       "model_id": "38990d711dc24280afdcaebeb1fdc88f",
       "version_major": 2,
       "version_minor": 0
      },
      "text/plain": [
       "wds/subj05/train/33.tar:   0%|          | 0.00/8.66M [00:00<?, ?B/s]"
      ]
     },
     "metadata": {},
     "output_type": "display_data"
    },
    {
     "data": {
      "application/vnd.jupyter.widget-view+json": {
       "model_id": "9a99637e511e4b98aed99eb365b240ce",
       "version_major": 2,
       "version_minor": 0
      },
      "text/plain": [
       "wds/subj05/train/35.tar:   0%|          | 0.00/8.52M [00:00<?, ?B/s]"
      ]
     },
     "metadata": {},
     "output_type": "display_data"
    },
    {
     "data": {
      "application/vnd.jupyter.widget-view+json": {
       "model_id": "e44a7e8c364a4a5c87708e8e6dad1e3c",
       "version_major": 2,
       "version_minor": 0
      },
      "text/plain": [
       "wds/subj05/train/34.tar:   0%|          | 0.00/8.78M [00:00<?, ?B/s]"
      ]
     },
     "metadata": {},
     "output_type": "display_data"
    },
    {
     "data": {
      "application/vnd.jupyter.widget-view+json": {
       "model_id": "8adf5993c8a949e3bbb1157e0ae2f698",
       "version_major": 2,
       "version_minor": 0
      },
      "text/plain": [
       "wds/subj05/train/36.tar:   0%|          | 0.00/8.38M [00:00<?, ?B/s]"
      ]
     },
     "metadata": {},
     "output_type": "display_data"
    },
    {
     "data": {
      "application/vnd.jupyter.widget-view+json": {
       "model_id": "80ab815f991847d9a246894912f27752",
       "version_major": 2,
       "version_minor": 0
      },
      "text/plain": [
       "wds/subj05/train/38.tar:   0%|          | 0.00/8.66M [00:00<?, ?B/s]"
      ]
     },
     "metadata": {},
     "output_type": "display_data"
    },
    {
     "data": {
      "application/vnd.jupyter.widget-view+json": {
       "model_id": "144a6f463c5e4765bcd9722c568c0b22",
       "version_major": 2,
       "version_minor": 0
      },
      "text/plain": [
       "wds/subj05/train/37.tar:   0%|          | 0.00/8.62M [00:00<?, ?B/s]"
      ]
     },
     "metadata": {},
     "output_type": "display_data"
    },
    {
     "data": {
      "application/vnd.jupyter.widget-view+json": {
       "model_id": "2ac393e938a04e39977055411b64c142",
       "version_major": 2,
       "version_minor": 0
      },
      "text/plain": [
       "wds/subj05/train/39.tar:   0%|          | 0.00/8.59M [00:00<?, ?B/s]"
      ]
     },
     "metadata": {},
     "output_type": "display_data"
    },
    {
     "data": {
      "application/vnd.jupyter.widget-view+json": {
       "model_id": "816129cf6afd4a31943a21512f092c55",
       "version_major": 2,
       "version_minor": 0
      },
      "text/plain": [
       "wds/subj05/train/4.tar:   0%|          | 0.00/8.88M [00:00<?, ?B/s]"
      ]
     },
     "metadata": {},
     "output_type": "display_data"
    },
    {
     "data": {
      "application/vnd.jupyter.widget-view+json": {
       "model_id": "8fac3d7028b34a758136110dd7819b50",
       "version_major": 2,
       "version_minor": 0
      },
      "text/plain": [
       "wds/subj05/train/5.tar:   0%|          | 0.00/8.49M [00:00<?, ?B/s]"
      ]
     },
     "metadata": {},
     "output_type": "display_data"
    },
    {
     "data": {
      "application/vnd.jupyter.widget-view+json": {
       "model_id": "84d6fa8727a64e95914a0898c570881f",
       "version_major": 2,
       "version_minor": 0
      },
      "text/plain": [
       "wds/subj05/train/6.tar:   0%|          | 0.00/8.74M [00:00<?, ?B/s]"
      ]
     },
     "metadata": {},
     "output_type": "display_data"
    },
    {
     "data": {
      "application/vnd.jupyter.widget-view+json": {
       "model_id": "dad69cae8a6b4062895afb37aa1fdc46",
       "version_major": 2,
       "version_minor": 0
      },
      "text/plain": [
       "wds/subj05/train/7.tar:   0%|          | 0.00/8.79M [00:00<?, ?B/s]"
      ]
     },
     "metadata": {},
     "output_type": "display_data"
    },
    {
     "data": {
      "application/vnd.jupyter.widget-view+json": {
       "model_id": "4bd97d25427148568656814a229dd761",
       "version_major": 2,
       "version_minor": 0
      },
      "text/plain": [
       "wds/subj05/train/8.tar:   0%|          | 0.00/8.73M [00:00<?, ?B/s]"
      ]
     },
     "metadata": {},
     "output_type": "display_data"
    },
    {
     "data": {
      "application/vnd.jupyter.widget-view+json": {
       "model_id": "090bd6ed351b4fe5aecc6f4cdb2930b0",
       "version_major": 2,
       "version_minor": 0
      },
      "text/plain": [
       "wds/subj05/train/9.tar:   0%|          | 0.00/8.69M [00:00<?, ?B/s]"
      ]
     },
     "metadata": {},
     "output_type": "display_data"
    },
    {
     "data": {
      "application/vnd.jupyter.widget-view+json": {
       "model_id": "aa440a8b0454432eac53a7f5e66ea201",
       "version_major": 2,
       "version_minor": 0
      },
      "text/plain": [
       "wds/subj06/new_test/0.tar:   0%|          | 0.00/30.4M [00:00<?, ?B/s]"
      ]
     },
     "metadata": {},
     "output_type": "display_data"
    },
    {
     "data": {
      "application/vnd.jupyter.widget-view+json": {
       "model_id": "ddf4b07dc52f4dfab6cdf908fd18559c",
       "version_major": 2,
       "version_minor": 0
      },
      "text/plain": [
       "wds/subj06/test/0.tar:   0%|          | 0.00/27.1M [00:00<?, ?B/s]"
      ]
     },
     "metadata": {},
     "output_type": "display_data"
    },
    {
     "data": {
      "application/vnd.jupyter.widget-view+json": {
       "model_id": "d9146fcf7d324e63a2316481a5859493",
       "version_major": 2,
       "version_minor": 0
      },
      "text/plain": [
       "wds/subj06/train/0.tar:   0%|          | 0.00/8.82M [00:00<?, ?B/s]"
      ]
     },
     "metadata": {},
     "output_type": "display_data"
    },
    {
     "data": {
      "application/vnd.jupyter.widget-view+json": {
       "model_id": "b9e711656aea41ed8d5df88fa140c5d7",
       "version_major": 2,
       "version_minor": 0
      },
      "text/plain": [
       "wds/subj06/train/1.tar:   0%|          | 0.00/8.58M [00:00<?, ?B/s]"
      ]
     },
     "metadata": {},
     "output_type": "display_data"
    },
    {
     "data": {
      "application/vnd.jupyter.widget-view+json": {
       "model_id": "717457a510bf4d349aa59f3e0c54b14e",
       "version_major": 2,
       "version_minor": 0
      },
      "text/plain": [
       "wds/subj06/train/10.tar:   0%|          | 0.00/8.54M [00:00<?, ?B/s]"
      ]
     },
     "metadata": {},
     "output_type": "display_data"
    },
    {
     "data": {
      "application/vnd.jupyter.widget-view+json": {
       "model_id": "b8ea272a2e1b4082bac77aeba09b50de",
       "version_major": 2,
       "version_minor": 0
      },
      "text/plain": [
       "wds/subj06/train/11.tar:   0%|          | 0.00/8.57M [00:00<?, ?B/s]"
      ]
     },
     "metadata": {},
     "output_type": "display_data"
    },
    {
     "data": {
      "application/vnd.jupyter.widget-view+json": {
       "model_id": "bcddc65425774d94b968f70f2093b7d7",
       "version_major": 2,
       "version_minor": 0
      },
      "text/plain": [
       "wds/subj06/train/12.tar:   0%|          | 0.00/8.84M [00:00<?, ?B/s]"
      ]
     },
     "metadata": {},
     "output_type": "display_data"
    },
    {
     "data": {
      "application/vnd.jupyter.widget-view+json": {
       "model_id": "42e7391b716d48ac863c10c83597eaef",
       "version_major": 2,
       "version_minor": 0
      },
      "text/plain": [
       "wds/subj06/train/13.tar:   0%|          | 0.00/8.53M [00:00<?, ?B/s]"
      ]
     },
     "metadata": {},
     "output_type": "display_data"
    },
    {
     "data": {
      "application/vnd.jupyter.widget-view+json": {
       "model_id": "9fadb2c83bc740c7be88042ffc5998e1",
       "version_major": 2,
       "version_minor": 0
      },
      "text/plain": [
       "wds/subj06/train/14.tar:   0%|          | 0.00/8.49M [00:00<?, ?B/s]"
      ]
     },
     "metadata": {},
     "output_type": "display_data"
    },
    {
     "data": {
      "application/vnd.jupyter.widget-view+json": {
       "model_id": "4d40eff533f94c2e8c45cac72ae7ec85",
       "version_major": 2,
       "version_minor": 0
      },
      "text/plain": [
       "wds/subj06/train/15.tar:   0%|          | 0.00/8.54M [00:00<?, ?B/s]"
      ]
     },
     "metadata": {},
     "output_type": "display_data"
    },
    {
     "data": {
      "application/vnd.jupyter.widget-view+json": {
       "model_id": "0ab571b5c6e14626843c2a27b9ebbf6c",
       "version_major": 2,
       "version_minor": 0
      },
      "text/plain": [
       "wds/subj06/train/16.tar:   0%|          | 0.00/8.72M [00:00<?, ?B/s]"
      ]
     },
     "metadata": {},
     "output_type": "display_data"
    },
    {
     "data": {
      "application/vnd.jupyter.widget-view+json": {
       "model_id": "d2fded2e04434543a46374cc91796be3",
       "version_major": 2,
       "version_minor": 0
      },
      "text/plain": [
       "wds/subj06/train/17.tar:   0%|          | 0.00/8.48M [00:00<?, ?B/s]"
      ]
     },
     "metadata": {},
     "output_type": "display_data"
    },
    {
     "data": {
      "application/vnd.jupyter.widget-view+json": {
       "model_id": "fb738f5f52e948d58c21f4f59ccf1861",
       "version_major": 2,
       "version_minor": 0
      },
      "text/plain": [
       "wds/subj06/train/18.tar:   0%|          | 0.00/8.71M [00:00<?, ?B/s]"
      ]
     },
     "metadata": {},
     "output_type": "display_data"
    },
    {
     "data": {
      "application/vnd.jupyter.widget-view+json": {
       "model_id": "f08bae941218474a9d7404dc1ebfb795",
       "version_major": 2,
       "version_minor": 0
      },
      "text/plain": [
       "wds/subj06/train/19.tar:   0%|          | 0.00/8.47M [00:00<?, ?B/s]"
      ]
     },
     "metadata": {},
     "output_type": "display_data"
    },
    {
     "data": {
      "application/vnd.jupyter.widget-view+json": {
       "model_id": "9d81871841974f0e8ead56c659dbfda1",
       "version_major": 2,
       "version_minor": 0
      },
      "text/plain": [
       "wds/subj06/train/2.tar:   0%|          | 0.00/8.85M [00:00<?, ?B/s]"
      ]
     },
     "metadata": {},
     "output_type": "display_data"
    },
    {
     "data": {
      "application/vnd.jupyter.widget-view+json": {
       "model_id": "8d59655048e844c2b59d18e546910c42",
       "version_major": 2,
       "version_minor": 0
      },
      "text/plain": [
       "wds/subj06/train/20.tar:   0%|          | 0.00/8.71M [00:00<?, ?B/s]"
      ]
     },
     "metadata": {},
     "output_type": "display_data"
    },
    {
     "data": {
      "application/vnd.jupyter.widget-view+json": {
       "model_id": "ea300e58e2bb4d508c058b4b4c78ff9a",
       "version_major": 2,
       "version_minor": 0
      },
      "text/plain": [
       "wds/subj06/train/21.tar:   0%|          | 0.00/8.85M [00:00<?, ?B/s]"
      ]
     },
     "metadata": {},
     "output_type": "display_data"
    },
    {
     "data": {
      "application/vnd.jupyter.widget-view+json": {
       "model_id": "92c251d3f0a2481a8a0f1bd05f89119b",
       "version_major": 2,
       "version_minor": 0
      },
      "text/plain": [
       "wds/subj06/train/22.tar:   0%|          | 0.00/8.64M [00:00<?, ?B/s]"
      ]
     },
     "metadata": {},
     "output_type": "display_data"
    },
    {
     "data": {
      "application/vnd.jupyter.widget-view+json": {
       "model_id": "f3fcefdca47740c7a9308d029d9153b0",
       "version_major": 2,
       "version_minor": 0
      },
      "text/plain": [
       "wds/subj06/train/23.tar:   0%|          | 0.00/8.77M [00:00<?, ?B/s]"
      ]
     },
     "metadata": {},
     "output_type": "display_data"
    },
    {
     "data": {
      "application/vnd.jupyter.widget-view+json": {
       "model_id": "38bcf1ebbc444eb0a332eba4784a5f64",
       "version_major": 2,
       "version_minor": 0
      },
      "text/plain": [
       "wds/subj06/train/24.tar:   0%|          | 0.00/8.73M [00:00<?, ?B/s]"
      ]
     },
     "metadata": {},
     "output_type": "display_data"
    },
    {
     "data": {
      "application/vnd.jupyter.widget-view+json": {
       "model_id": "d4019fa726034bc39bf44478ac84ece1",
       "version_major": 2,
       "version_minor": 0
      },
      "text/plain": [
       "wds/subj06/train/25.tar:   0%|          | 0.00/8.59M [00:00<?, ?B/s]"
      ]
     },
     "metadata": {},
     "output_type": "display_data"
    },
    {
     "data": {
      "application/vnd.jupyter.widget-view+json": {
       "model_id": "f3020e9cc3964fbfab7717326e2eba00",
       "version_major": 2,
       "version_minor": 0
      },
      "text/plain": [
       "wds/subj06/train/26.tar:   0%|          | 0.00/8.62M [00:00<?, ?B/s]"
      ]
     },
     "metadata": {},
     "output_type": "display_data"
    },
    {
     "data": {
      "application/vnd.jupyter.widget-view+json": {
       "model_id": "85e5d76190a541dfbe99f2b5192c5c47",
       "version_major": 2,
       "version_minor": 0
      },
      "text/plain": [
       "wds/subj06/train/27.tar:   0%|          | 0.00/8.74M [00:00<?, ?B/s]"
      ]
     },
     "metadata": {},
     "output_type": "display_data"
    },
    {
     "data": {
      "application/vnd.jupyter.widget-view+json": {
       "model_id": "8b8b0d7e23ef4e8282b7e4f526becef7",
       "version_major": 2,
       "version_minor": 0
      },
      "text/plain": [
       "wds/subj06/train/28.tar:   0%|          | 0.00/8.83M [00:00<?, ?B/s]"
      ]
     },
     "metadata": {},
     "output_type": "display_data"
    },
    {
     "data": {
      "application/vnd.jupyter.widget-view+json": {
       "model_id": "2c1fe9b444254a2b81497a371e938f55",
       "version_major": 2,
       "version_minor": 0
      },
      "text/plain": [
       "wds/subj06/train/29.tar:   0%|          | 0.00/8.64M [00:00<?, ?B/s]"
      ]
     },
     "metadata": {},
     "output_type": "display_data"
    },
    {
     "data": {
      "application/vnd.jupyter.widget-view+json": {
       "model_id": "faee1456db13447b9c72e66b3ff04b20",
       "version_major": 2,
       "version_minor": 0
      },
      "text/plain": [
       "wds/subj06/train/3.tar:   0%|          | 0.00/8.56M [00:00<?, ?B/s]"
      ]
     },
     "metadata": {},
     "output_type": "display_data"
    },
    {
     "data": {
      "application/vnd.jupyter.widget-view+json": {
       "model_id": "68c26aac9ff243dc91cd6d254573ef35",
       "version_major": 2,
       "version_minor": 0
      },
      "text/plain": [
       "wds/subj06/train/30.tar:   0%|          | 0.00/8.31M [00:00<?, ?B/s]"
      ]
     },
     "metadata": {},
     "output_type": "display_data"
    },
    {
     "data": {
      "application/vnd.jupyter.widget-view+json": {
       "model_id": "aa32d1c54f7b48e8b72d8bddf7142946",
       "version_major": 2,
       "version_minor": 0
      },
      "text/plain": [
       "wds/subj06/train/4.tar:   0%|          | 0.00/8.88M [00:00<?, ?B/s]"
      ]
     },
     "metadata": {},
     "output_type": "display_data"
    },
    {
     "data": {
      "application/vnd.jupyter.widget-view+json": {
       "model_id": "4a901e42071e493a9dd58107786bb47c",
       "version_major": 2,
       "version_minor": 0
      },
      "text/plain": [
       "wds/subj06/train/31.tar:   0%|          | 0.00/8.56M [00:00<?, ?B/s]"
      ]
     },
     "metadata": {},
     "output_type": "display_data"
    },
    {
     "data": {
      "application/vnd.jupyter.widget-view+json": {
       "model_id": "ba96f028ac574144b4832f1074be1f35",
       "version_major": 2,
       "version_minor": 0
      },
      "text/plain": [
       "wds/subj06/train/5.tar:   0%|          | 0.00/8.49M [00:00<?, ?B/s]"
      ]
     },
     "metadata": {},
     "output_type": "display_data"
    },
    {
     "data": {
      "application/vnd.jupyter.widget-view+json": {
       "model_id": "b6e58745cd0141fbaa18079c35de0a58",
       "version_major": 2,
       "version_minor": 0
      },
      "text/plain": [
       "wds/subj06/train/6.tar:   0%|          | 0.00/8.74M [00:00<?, ?B/s]"
      ]
     },
     "metadata": {},
     "output_type": "display_data"
    },
    {
     "data": {
      "application/vnd.jupyter.widget-view+json": {
       "model_id": "361e28671f4a4c84a4974e48f2f571a2",
       "version_major": 2,
       "version_minor": 0
      },
      "text/plain": [
       "wds/subj06/train/7.tar:   0%|          | 0.00/8.79M [00:00<?, ?B/s]"
      ]
     },
     "metadata": {},
     "output_type": "display_data"
    },
    {
     "data": {
      "application/vnd.jupyter.widget-view+json": {
       "model_id": "528c89719ccd4c62ae004271d781ee1f",
       "version_major": 2,
       "version_minor": 0
      },
      "text/plain": [
       "wds/subj06/train/8.tar:   0%|          | 0.00/8.73M [00:00<?, ?B/s]"
      ]
     },
     "metadata": {},
     "output_type": "display_data"
    },
    {
     "data": {
      "application/vnd.jupyter.widget-view+json": {
       "model_id": "4b64313236774bd2b4a7ed2d585906d2",
       "version_major": 2,
       "version_minor": 0
      },
      "text/plain": [
       "wds/subj06/train/9.tar:   0%|          | 0.00/8.69M [00:00<?, ?B/s]"
      ]
     },
     "metadata": {},
     "output_type": "display_data"
    },
    {
     "data": {
      "application/vnd.jupyter.widget-view+json": {
       "model_id": "0427c8e9ae8d400bbeb0303d8f5214c7",
       "version_major": 2,
       "version_minor": 0
      },
      "text/plain": [
       "wds/subj07/test/0.tar:   0%|          | 0.00/35.5M [00:00<?, ?B/s]"
      ]
     },
     "metadata": {},
     "output_type": "display_data"
    },
    {
     "data": {
      "application/vnd.jupyter.widget-view+json": {
       "model_id": "38f0e02eb4354fa68a92cc953d57d6c8",
       "version_major": 2,
       "version_minor": 0
      },
      "text/plain": [
       "wds/subj07/new_test/0.tar:   0%|          | 0.00/38.4M [00:00<?, ?B/s]"
      ]
     },
     "metadata": {},
     "output_type": "display_data"
    },
    {
     "data": {
      "application/vnd.jupyter.widget-view+json": {
       "model_id": "266a8738c19d4f6b9100091ecfe3f9fb",
       "version_major": 2,
       "version_minor": 0
      },
      "text/plain": [
       "wds/subj07/train/1.tar:   0%|          | 0.00/8.58M [00:00<?, ?B/s]"
      ]
     },
     "metadata": {},
     "output_type": "display_data"
    },
    {
     "data": {
      "application/vnd.jupyter.widget-view+json": {
       "model_id": "b52ca88414e546afaa2170be9bbd302d",
       "version_major": 2,
       "version_minor": 0
      },
      "text/plain": [
       "wds/subj07/train/0.tar:   0%|          | 0.00/8.82M [00:00<?, ?B/s]"
      ]
     },
     "metadata": {},
     "output_type": "display_data"
    },
    {
     "data": {
      "application/vnd.jupyter.widget-view+json": {
       "model_id": "1ddfa454c97340c9b78e2c6533e5507c",
       "version_major": 2,
       "version_minor": 0
      },
      "text/plain": [
       "wds/subj07/train/10.tar:   0%|          | 0.00/8.54M [00:00<?, ?B/s]"
      ]
     },
     "metadata": {},
     "output_type": "display_data"
    },
    {
     "data": {
      "application/vnd.jupyter.widget-view+json": {
       "model_id": "5d8e4004b106425b8c46ee623eb435d6",
       "version_major": 2,
       "version_minor": 0
      },
      "text/plain": [
       "wds/subj07/train/11.tar:   0%|          | 0.00/8.57M [00:00<?, ?B/s]"
      ]
     },
     "metadata": {},
     "output_type": "display_data"
    },
    {
     "data": {
      "application/vnd.jupyter.widget-view+json": {
       "model_id": "df50825640774809abc1ca844cc29b0c",
       "version_major": 2,
       "version_minor": 0
      },
      "text/plain": [
       "wds/subj07/train/12.tar:   0%|          | 0.00/8.84M [00:00<?, ?B/s]"
      ]
     },
     "metadata": {},
     "output_type": "display_data"
    },
    {
     "data": {
      "application/vnd.jupyter.widget-view+json": {
       "model_id": "47c9e80804ba4c93a9a65062a857bc13",
       "version_major": 2,
       "version_minor": 0
      },
      "text/plain": [
       "wds/subj07/train/13.tar:   0%|          | 0.00/8.53M [00:00<?, ?B/s]"
      ]
     },
     "metadata": {},
     "output_type": "display_data"
    },
    {
     "data": {
      "application/vnd.jupyter.widget-view+json": {
       "model_id": "186f2a86537c4484a6c90b3a146e86cb",
       "version_major": 2,
       "version_minor": 0
      },
      "text/plain": [
       "wds/subj07/train/14.tar:   0%|          | 0.00/8.49M [00:00<?, ?B/s]"
      ]
     },
     "metadata": {},
     "output_type": "display_data"
    },
    {
     "data": {
      "application/vnd.jupyter.widget-view+json": {
       "model_id": "10d732fa369e4de4a3db8cd1a874b0cd",
       "version_major": 2,
       "version_minor": 0
      },
      "text/plain": [
       "wds/subj07/train/15.tar:   0%|          | 0.00/8.54M [00:00<?, ?B/s]"
      ]
     },
     "metadata": {},
     "output_type": "display_data"
    },
    {
     "data": {
      "application/vnd.jupyter.widget-view+json": {
       "model_id": "435ead743c754c138792a42838dacdc5",
       "version_major": 2,
       "version_minor": 0
      },
      "text/plain": [
       "wds/subj07/train/16.tar:   0%|          | 0.00/8.72M [00:00<?, ?B/s]"
      ]
     },
     "metadata": {},
     "output_type": "display_data"
    },
    {
     "data": {
      "application/vnd.jupyter.widget-view+json": {
       "model_id": "6639cfb7d9344c24a5c98f72ed098d3c",
       "version_major": 2,
       "version_minor": 0
      },
      "text/plain": [
       "wds/subj07/train/17.tar:   0%|          | 0.00/8.48M [00:00<?, ?B/s]"
      ]
     },
     "metadata": {},
     "output_type": "display_data"
    },
    {
     "data": {
      "application/vnd.jupyter.widget-view+json": {
       "model_id": "c7efe6472d794f17b5413da03001c77c",
       "version_major": 2,
       "version_minor": 0
      },
      "text/plain": [
       "wds/subj07/train/18.tar:   0%|          | 0.00/8.71M [00:00<?, ?B/s]"
      ]
     },
     "metadata": {},
     "output_type": "display_data"
    },
    {
     "data": {
      "application/vnd.jupyter.widget-view+json": {
       "model_id": "8d9a73b2aa404682bf741bde3db93695",
       "version_major": 2,
       "version_minor": 0
      },
      "text/plain": [
       "wds/subj07/train/2.tar:   0%|          | 0.00/8.85M [00:00<?, ?B/s]"
      ]
     },
     "metadata": {},
     "output_type": "display_data"
    },
    {
     "data": {
      "application/vnd.jupyter.widget-view+json": {
       "model_id": "ca41c7dcbfb84fd1a1dbf3442c58c1d9",
       "version_major": 2,
       "version_minor": 0
      },
      "text/plain": [
       "wds/subj07/train/19.tar:   0%|          | 0.00/8.47M [00:00<?, ?B/s]"
      ]
     },
     "metadata": {},
     "output_type": "display_data"
    },
    {
     "data": {
      "application/vnd.jupyter.widget-view+json": {
       "model_id": "75003766b1f5453a85c8e3f260959e2f",
       "version_major": 2,
       "version_minor": 0
      },
      "text/plain": [
       "wds/subj07/train/20.tar:   0%|          | 0.00/8.71M [00:00<?, ?B/s]"
      ]
     },
     "metadata": {},
     "output_type": "display_data"
    },
    {
     "data": {
      "application/vnd.jupyter.widget-view+json": {
       "model_id": "ab3320d31902412c9d4dda98c6bbfd3c",
       "version_major": 2,
       "version_minor": 0
      },
      "text/plain": [
       "wds/subj07/train/21.tar:   0%|          | 0.00/8.85M [00:00<?, ?B/s]"
      ]
     },
     "metadata": {},
     "output_type": "display_data"
    },
    {
     "data": {
      "application/vnd.jupyter.widget-view+json": {
       "model_id": "68ea8a243a6f47a9b9e5799c3ff49624",
       "version_major": 2,
       "version_minor": 0
      },
      "text/plain": [
       "wds/subj07/train/22.tar:   0%|          | 0.00/8.64M [00:00<?, ?B/s]"
      ]
     },
     "metadata": {},
     "output_type": "display_data"
    },
    {
     "data": {
      "application/vnd.jupyter.widget-view+json": {
       "model_id": "9563ae6e7b5d490e82af8dbf730648f2",
       "version_major": 2,
       "version_minor": 0
      },
      "text/plain": [
       "wds/subj07/train/23.tar:   0%|          | 0.00/8.77M [00:00<?, ?B/s]"
      ]
     },
     "metadata": {},
     "output_type": "display_data"
    },
    {
     "data": {
      "application/vnd.jupyter.widget-view+json": {
       "model_id": "6f0c7656c08e45a0b9208bf65d80ea90",
       "version_major": 2,
       "version_minor": 0
      },
      "text/plain": [
       "wds/subj07/train/24.tar:   0%|          | 0.00/8.73M [00:00<?, ?B/s]"
      ]
     },
     "metadata": {},
     "output_type": "display_data"
    },
    {
     "data": {
      "application/vnd.jupyter.widget-view+json": {
       "model_id": "25d3679a222b4a4bae79a7a325f786b1",
       "version_major": 2,
       "version_minor": 0
      },
      "text/plain": [
       "wds/subj07/train/25.tar:   0%|          | 0.00/8.59M [00:00<?, ?B/s]"
      ]
     },
     "metadata": {},
     "output_type": "display_data"
    },
    {
     "data": {
      "application/vnd.jupyter.widget-view+json": {
       "model_id": "17e2888874724fdda3fe0cc6e09268ed",
       "version_major": 2,
       "version_minor": 0
      },
      "text/plain": [
       "wds/subj07/train/26.tar:   0%|          | 0.00/8.62M [00:00<?, ?B/s]"
      ]
     },
     "metadata": {},
     "output_type": "display_data"
    },
    {
     "data": {
      "application/vnd.jupyter.widget-view+json": {
       "model_id": "70428711e85541f08f78d668bf81fd35",
       "version_major": 2,
       "version_minor": 0
      },
      "text/plain": [
       "wds/subj07/train/27.tar:   0%|          | 0.00/8.74M [00:00<?, ?B/s]"
      ]
     },
     "metadata": {},
     "output_type": "display_data"
    },
    {
     "data": {
      "application/vnd.jupyter.widget-view+json": {
       "model_id": "c4751fe073864af89db4f07bfd16e1f9",
       "version_major": 2,
       "version_minor": 0
      },
      "text/plain": [
       "wds/subj07/train/28.tar:   0%|          | 0.00/8.83M [00:00<?, ?B/s]"
      ]
     },
     "metadata": {},
     "output_type": "display_data"
    },
    {
     "data": {
      "application/vnd.jupyter.widget-view+json": {
       "model_id": "7557c0885dcf47f485f535aa0d5ebe8d",
       "version_major": 2,
       "version_minor": 0
      },
      "text/plain": [
       "wds/subj07/train/29.tar:   0%|          | 0.00/8.64M [00:00<?, ?B/s]"
      ]
     },
     "metadata": {},
     "output_type": "display_data"
    },
    {
     "data": {
      "application/vnd.jupyter.widget-view+json": {
       "model_id": "828a84097f364bcdacb4924c450a45bc",
       "version_major": 2,
       "version_minor": 0
      },
      "text/plain": [
       "wds/subj07/train/3.tar:   0%|          | 0.00/8.56M [00:00<?, ?B/s]"
      ]
     },
     "metadata": {},
     "output_type": "display_data"
    },
    {
     "data": {
      "application/vnd.jupyter.widget-view+json": {
       "model_id": "0edb7378012140c987e4dd21f4618ffc",
       "version_major": 2,
       "version_minor": 0
      },
      "text/plain": [
       "wds/subj07/train/30.tar:   0%|          | 0.00/8.31M [00:00<?, ?B/s]"
      ]
     },
     "metadata": {},
     "output_type": "display_data"
    },
    {
     "data": {
      "application/vnd.jupyter.widget-view+json": {
       "model_id": "caa7b2176d514e40bd6b2e8db6820f4f",
       "version_major": 2,
       "version_minor": 0
      },
      "text/plain": [
       "wds/subj07/train/31.tar:   0%|          | 0.00/8.56M [00:00<?, ?B/s]"
      ]
     },
     "metadata": {},
     "output_type": "display_data"
    },
    {
     "data": {
      "application/vnd.jupyter.widget-view+json": {
       "model_id": "9ab688a3ed9845f8aeab857bee164092",
       "version_major": 2,
       "version_minor": 0
      },
      "text/plain": [
       "wds/subj07/train/32.tar:   0%|          | 0.00/8.59M [00:00<?, ?B/s]"
      ]
     },
     "metadata": {},
     "output_type": "display_data"
    },
    {
     "data": {
      "application/vnd.jupyter.widget-view+json": {
       "model_id": "af7838df2f16457581da7c2b4492bfeb",
       "version_major": 2,
       "version_minor": 0
      },
      "text/plain": [
       "wds/subj07/train/33.tar:   0%|          | 0.00/8.66M [00:00<?, ?B/s]"
      ]
     },
     "metadata": {},
     "output_type": "display_data"
    },
    {
     "data": {
      "application/vnd.jupyter.widget-view+json": {
       "model_id": "ed4dfbc13b7044aeb21a84c8bf775a9d",
       "version_major": 2,
       "version_minor": 0
      },
      "text/plain": [
       "wds/subj07/train/34.tar:   0%|          | 0.00/8.78M [00:00<?, ?B/s]"
      ]
     },
     "metadata": {},
     "output_type": "display_data"
    },
    {
     "data": {
      "application/vnd.jupyter.widget-view+json": {
       "model_id": "7d7682e4d34f4c9b8fabe5738a1308d2",
       "version_major": 2,
       "version_minor": 0
      },
      "text/plain": [
       "wds/subj07/train/35.tar:   0%|          | 0.00/8.52M [00:00<?, ?B/s]"
      ]
     },
     "metadata": {},
     "output_type": "display_data"
    },
    {
     "data": {
      "application/vnd.jupyter.widget-view+json": {
       "model_id": "5ebedbe20eab4b438f8027b5d4cd3c17",
       "version_major": 2,
       "version_minor": 0
      },
      "text/plain": [
       "wds/subj07/train/36.tar:   0%|          | 0.00/8.38M [00:00<?, ?B/s]"
      ]
     },
     "metadata": {},
     "output_type": "display_data"
    },
    {
     "data": {
      "application/vnd.jupyter.widget-view+json": {
       "model_id": "41a06e5e729a4439a5190b67d5e3c636",
       "version_major": 2,
       "version_minor": 0
      },
      "text/plain": [
       "wds/subj07/train/37.tar:   0%|          | 0.00/8.62M [00:00<?, ?B/s]"
      ]
     },
     "metadata": {},
     "output_type": "display_data"
    },
    {
     "data": {
      "application/vnd.jupyter.widget-view+json": {
       "model_id": "39ee397a0e03488ea6b642fb046c50d9",
       "version_major": 2,
       "version_minor": 0
      },
      "text/plain": [
       "wds/subj07/train/38.tar:   0%|          | 0.00/8.66M [00:00<?, ?B/s]"
      ]
     },
     "metadata": {},
     "output_type": "display_data"
    },
    {
     "data": {
      "application/vnd.jupyter.widget-view+json": {
       "model_id": "d0fc1f16b43540f7833e17cb84928a0c",
       "version_major": 2,
       "version_minor": 0
      },
      "text/plain": [
       "wds/subj07/train/4.tar:   0%|          | 0.00/8.88M [00:00<?, ?B/s]"
      ]
     },
     "metadata": {},
     "output_type": "display_data"
    },
    {
     "data": {
      "application/vnd.jupyter.widget-view+json": {
       "model_id": "0c32889b645740b29e3c2afe4f30f744",
       "version_major": 2,
       "version_minor": 0
      },
      "text/plain": [
       "wds/subj07/train/39.tar:   0%|          | 0.00/8.59M [00:00<?, ?B/s]"
      ]
     },
     "metadata": {},
     "output_type": "display_data"
    },
    {
     "data": {
      "application/vnd.jupyter.widget-view+json": {
       "model_id": "31b8ba26136e458b8930685b8c8c6946",
       "version_major": 2,
       "version_minor": 0
      },
      "text/plain": [
       "wds/subj07/train/5.tar:   0%|          | 0.00/8.49M [00:00<?, ?B/s]"
      ]
     },
     "metadata": {},
     "output_type": "display_data"
    },
    {
     "data": {
      "application/vnd.jupyter.widget-view+json": {
       "model_id": "2744a48af557419ebe7220631c2ad3cf",
       "version_major": 2,
       "version_minor": 0
      },
      "text/plain": [
       "wds/subj07/train/6.tar:   0%|          | 0.00/8.74M [00:00<?, ?B/s]"
      ]
     },
     "metadata": {},
     "output_type": "display_data"
    },
    {
     "data": {
      "application/vnd.jupyter.widget-view+json": {
       "model_id": "bd3d81cf56754b4889f3847cd16bbad4",
       "version_major": 2,
       "version_minor": 0
      },
      "text/plain": [
       "wds/subj07/train/8.tar:   0%|          | 0.00/8.73M [00:00<?, ?B/s]"
      ]
     },
     "metadata": {},
     "output_type": "display_data"
    },
    {
     "data": {
      "application/vnd.jupyter.widget-view+json": {
       "model_id": "3379ac118ec7466b9f0f67620f417ffa",
       "version_major": 2,
       "version_minor": 0
      },
      "text/plain": [
       "wds/subj07/train/9.tar:   0%|          | 0.00/8.69M [00:00<?, ?B/s]"
      ]
     },
     "metadata": {},
     "output_type": "display_data"
    },
    {
     "data": {
      "application/vnd.jupyter.widget-view+json": {
       "model_id": "d14134a4f1574691bc44b6db176bc8e3",
       "version_major": 2,
       "version_minor": 0
      },
      "text/plain": [
       "wds/subj07/train/7.tar:   0%|          | 0.00/8.79M [00:00<?, ?B/s]"
      ]
     },
     "metadata": {},
     "output_type": "display_data"
    },
    {
     "data": {
      "application/vnd.jupyter.widget-view+json": {
       "model_id": "53795b805cfd441dbbdbde9dc7fc60e9",
       "version_major": 2,
       "version_minor": 0
      },
      "text/plain": [
       "wds/subj08/new_test/0.tar:   0%|          | 0.00/28.0M [00:00<?, ?B/s]"
      ]
     },
     "metadata": {},
     "output_type": "display_data"
    },
    {
     "data": {
      "application/vnd.jupyter.widget-view+json": {
       "model_id": "a5ceb981e62e4b8dac09f296e1b0ef86",
       "version_major": 2,
       "version_minor": 0
      },
      "text/plain": [
       "wds/subj08/test/0.tar:   0%|          | 0.00/25.4M [00:00<?, ?B/s]"
      ]
     },
     "metadata": {},
     "output_type": "display_data"
    },
    {
     "data": {
      "application/vnd.jupyter.widget-view+json": {
       "model_id": "e76c041251164094aadafcb69b90dee9",
       "version_major": 2,
       "version_minor": 0
      },
      "text/plain": [
       "wds/subj08/train/0.tar:   0%|          | 0.00/8.82M [00:00<?, ?B/s]"
      ]
     },
     "metadata": {},
     "output_type": "display_data"
    },
    {
     "data": {
      "application/vnd.jupyter.widget-view+json": {
       "model_id": "15155749772e4d88bb339fe0a777ffa7",
       "version_major": 2,
       "version_minor": 0
      },
      "text/plain": [
       "wds/subj08/train/1.tar:   0%|          | 0.00/8.58M [00:00<?, ?B/s]"
      ]
     },
     "metadata": {},
     "output_type": "display_data"
    },
    {
     "data": {
      "application/vnd.jupyter.widget-view+json": {
       "model_id": "a0c9d5938ddb4bd0b11edfb7f40290eb",
       "version_major": 2,
       "version_minor": 0
      },
      "text/plain": [
       "wds/subj08/train/10.tar:   0%|          | 0.00/8.54M [00:00<?, ?B/s]"
      ]
     },
     "metadata": {},
     "output_type": "display_data"
    },
    {
     "data": {
      "application/vnd.jupyter.widget-view+json": {
       "model_id": "e47c997ba9204b5cb6168572b48b3988",
       "version_major": 2,
       "version_minor": 0
      },
      "text/plain": [
       "wds/subj08/train/11.tar:   0%|          | 0.00/8.57M [00:00<?, ?B/s]"
      ]
     },
     "metadata": {},
     "output_type": "display_data"
    },
    {
     "data": {
      "application/vnd.jupyter.widget-view+json": {
       "model_id": "dc5cc539ab5044ab91686b830a8407a4",
       "version_major": 2,
       "version_minor": 0
      },
      "text/plain": [
       "wds/subj08/train/12.tar:   0%|          | 0.00/8.84M [00:00<?, ?B/s]"
      ]
     },
     "metadata": {},
     "output_type": "display_data"
    },
    {
     "data": {
      "application/vnd.jupyter.widget-view+json": {
       "model_id": "669cffbabccc4ed79809427f6923946a",
       "version_major": 2,
       "version_minor": 0
      },
      "text/plain": [
       "wds/subj08/train/14.tar:   0%|          | 0.00/8.49M [00:00<?, ?B/s]"
      ]
     },
     "metadata": {},
     "output_type": "display_data"
    },
    {
     "data": {
      "application/vnd.jupyter.widget-view+json": {
       "model_id": "a456ec2de905456a86d146d82c1575cb",
       "version_major": 2,
       "version_minor": 0
      },
      "text/plain": [
       "wds/subj08/train/15.tar:   0%|          | 0.00/8.54M [00:00<?, ?B/s]"
      ]
     },
     "metadata": {},
     "output_type": "display_data"
    },
    {
     "data": {
      "application/vnd.jupyter.widget-view+json": {
       "model_id": "4b96ec19426d4625a293cee7a81780bf",
       "version_major": 2,
       "version_minor": 0
      },
      "text/plain": [
       "wds/subj08/train/13.tar:   0%|          | 0.00/8.53M [00:00<?, ?B/s]"
      ]
     },
     "metadata": {},
     "output_type": "display_data"
    },
    {
     "data": {
      "application/vnd.jupyter.widget-view+json": {
       "model_id": "847dbdfef26b4f2fb9cef3b69aafdd38",
       "version_major": 2,
       "version_minor": 0
      },
      "text/plain": [
       "wds/subj08/train/16.tar:   0%|          | 0.00/8.72M [00:00<?, ?B/s]"
      ]
     },
     "metadata": {},
     "output_type": "display_data"
    },
    {
     "data": {
      "application/vnd.jupyter.widget-view+json": {
       "model_id": "d512f40b912f4ee6aaa7f8bdb4836896",
       "version_major": 2,
       "version_minor": 0
      },
      "text/plain": [
       "wds/subj08/train/17.tar:   0%|          | 0.00/8.48M [00:00<?, ?B/s]"
      ]
     },
     "metadata": {},
     "output_type": "display_data"
    },
    {
     "data": {
      "application/vnd.jupyter.widget-view+json": {
       "model_id": "297e2d41e8444578a59c87c2221cf7ff",
       "version_major": 2,
       "version_minor": 0
      },
      "text/plain": [
       "wds/subj08/train/18.tar:   0%|          | 0.00/8.71M [00:00<?, ?B/s]"
      ]
     },
     "metadata": {},
     "output_type": "display_data"
    },
    {
     "data": {
      "application/vnd.jupyter.widget-view+json": {
       "model_id": "e4202c89a6f1468eada0a805466062e7",
       "version_major": 2,
       "version_minor": 0
      },
      "text/plain": [
       "wds/subj08/train/19.tar:   0%|          | 0.00/8.47M [00:00<?, ?B/s]"
      ]
     },
     "metadata": {},
     "output_type": "display_data"
    },
    {
     "data": {
      "application/vnd.jupyter.widget-view+json": {
       "model_id": "b85364014e9545bca9a4a7e0e34c5b11",
       "version_major": 2,
       "version_minor": 0
      },
      "text/plain": [
       "wds/subj08/train/20.tar:   0%|          | 0.00/8.71M [00:00<?, ?B/s]"
      ]
     },
     "metadata": {},
     "output_type": "display_data"
    },
    {
     "data": {
      "application/vnd.jupyter.widget-view+json": {
       "model_id": "341fe43a3e1f4109bab30ff7662b354b",
       "version_major": 2,
       "version_minor": 0
      },
      "text/plain": [
       "wds/subj08/train/2.tar:   0%|          | 0.00/8.85M [00:00<?, ?B/s]"
      ]
     },
     "metadata": {},
     "output_type": "display_data"
    },
    {
     "data": {
      "application/vnd.jupyter.widget-view+json": {
       "model_id": "6d602eb3d7bb4990b7a3ab1ae3fe405e",
       "version_major": 2,
       "version_minor": 0
      },
      "text/plain": [
       "wds/subj08/train/21.tar:   0%|          | 0.00/8.85M [00:00<?, ?B/s]"
      ]
     },
     "metadata": {},
     "output_type": "display_data"
    },
    {
     "data": {
      "application/vnd.jupyter.widget-view+json": {
       "model_id": "b94f1f86e3b44fed9018d06ac7d75687",
       "version_major": 2,
       "version_minor": 0
      },
      "text/plain": [
       "wds/subj08/train/22.tar:   0%|          | 0.00/8.64M [00:00<?, ?B/s]"
      ]
     },
     "metadata": {},
     "output_type": "display_data"
    },
    {
     "data": {
      "application/vnd.jupyter.widget-view+json": {
       "model_id": "38f24cc8dc3a48b188c45bacd9d9de78",
       "version_major": 2,
       "version_minor": 0
      },
      "text/plain": [
       "wds/subj08/train/23.tar:   0%|          | 0.00/8.77M [00:00<?, ?B/s]"
      ]
     },
     "metadata": {},
     "output_type": "display_data"
    },
    {
     "data": {
      "application/vnd.jupyter.widget-view+json": {
       "model_id": "2de035383da347b2bf1a066afe61275f",
       "version_major": 2,
       "version_minor": 0
      },
      "text/plain": [
       "wds/subj08/train/24.tar:   0%|          | 0.00/8.73M [00:00<?, ?B/s]"
      ]
     },
     "metadata": {},
     "output_type": "display_data"
    },
    {
     "data": {
      "application/vnd.jupyter.widget-view+json": {
       "model_id": "85c5171b9faf4e529e1646a07818d496",
       "version_major": 2,
       "version_minor": 0
      },
      "text/plain": [
       "wds/subj08/train/25.tar:   0%|          | 0.00/8.59M [00:00<?, ?B/s]"
      ]
     },
     "metadata": {},
     "output_type": "display_data"
    },
    {
     "data": {
      "application/vnd.jupyter.widget-view+json": {
       "model_id": "5c8e488d597c43e888923fab4d842eaf",
       "version_major": 2,
       "version_minor": 0
      },
      "text/plain": [
       "wds/subj08/train/26.tar:   0%|          | 0.00/8.62M [00:00<?, ?B/s]"
      ]
     },
     "metadata": {},
     "output_type": "display_data"
    },
    {
     "data": {
      "application/vnd.jupyter.widget-view+json": {
       "model_id": "8fb30e11946e40999c62e3bb797e1466",
       "version_major": 2,
       "version_minor": 0
      },
      "text/plain": [
       "wds/subj08/train/28.tar:   0%|          | 0.00/8.83M [00:00<?, ?B/s]"
      ]
     },
     "metadata": {},
     "output_type": "display_data"
    },
    {
     "data": {
      "application/vnd.jupyter.widget-view+json": {
       "model_id": "f0730b70340945af808c77897a3fefb9",
       "version_major": 2,
       "version_minor": 0
      },
      "text/plain": [
       "wds/subj08/train/27.tar:   0%|          | 0.00/8.74M [00:00<?, ?B/s]"
      ]
     },
     "metadata": {},
     "output_type": "display_data"
    },
    {
     "data": {
      "application/vnd.jupyter.widget-view+json": {
       "model_id": "dc4a6e3c58b54a52b7476e051e5b45ad",
       "version_major": 2,
       "version_minor": 0
      },
      "text/plain": [
       "wds/subj08/train/3.tar:   0%|          | 0.00/8.56M [00:00<?, ?B/s]"
      ]
     },
     "metadata": {},
     "output_type": "display_data"
    },
    {
     "data": {
      "application/vnd.jupyter.widget-view+json": {
       "model_id": "03d38dc2db0848d4b29fde3128737d63",
       "version_major": 2,
       "version_minor": 0
      },
      "text/plain": [
       "wds/subj08/train/29.tar:   0%|          | 0.00/8.64M [00:00<?, ?B/s]"
      ]
     },
     "metadata": {},
     "output_type": "display_data"
    },
    {
     "data": {
      "application/vnd.jupyter.widget-view+json": {
       "model_id": "9d73281eb51d473a9bd0f76cd20e7912",
       "version_major": 2,
       "version_minor": 0
      },
      "text/plain": [
       "wds/subj08/train/5.tar:   0%|          | 0.00/8.49M [00:00<?, ?B/s]"
      ]
     },
     "metadata": {},
     "output_type": "display_data"
    },
    {
     "data": {
      "application/vnd.jupyter.widget-view+json": {
       "model_id": "c374363566fe47a6aa4471ab06eccea0",
       "version_major": 2,
       "version_minor": 0
      },
      "text/plain": [
       "wds/subj08/train/4.tar:   0%|          | 0.00/8.88M [00:00<?, ?B/s]"
      ]
     },
     "metadata": {},
     "output_type": "display_data"
    },
    {
     "data": {
      "application/vnd.jupyter.widget-view+json": {
       "model_id": "7398dc44d4114b8c84c3172ebba13542",
       "version_major": 2,
       "version_minor": 0
      },
      "text/plain": [
       "wds/subj08/train/6.tar:   0%|          | 0.00/8.74M [00:00<?, ?B/s]"
      ]
     },
     "metadata": {},
     "output_type": "display_data"
    },
    {
     "data": {
      "application/vnd.jupyter.widget-view+json": {
       "model_id": "39e8eb5544854e7fa93d26c8e8cd7884",
       "version_major": 2,
       "version_minor": 0
      },
      "text/plain": [
       "wds/subj08/train/8.tar:   0%|          | 0.00/8.73M [00:00<?, ?B/s]"
      ]
     },
     "metadata": {},
     "output_type": "display_data"
    },
    {
     "data": {
      "application/vnd.jupyter.widget-view+json": {
       "model_id": "cde8efbb5fce4d4a857141ef6aaa8c7d",
       "version_major": 2,
       "version_minor": 0
      },
      "text/plain": [
       "wds/subj08/train/7.tar:   0%|          | 0.00/8.79M [00:00<?, ?B/s]"
      ]
     },
     "metadata": {},
     "output_type": "display_data"
    },
    {
     "data": {
      "application/vnd.jupyter.widget-view+json": {
       "model_id": "642ba7766e3a444eae7c13d65d02fd1e",
       "version_major": 2,
       "version_minor": 0
      },
      "text/plain": [
       "wds/subj08/train/9.tar:   0%|          | 0.00/8.69M [00:00<?, ?B/s]"
      ]
     },
     "metadata": {},
     "output_type": "display_data"
    },
    {
     "data": {
      "text/plain": [
       "'/home/brain-image-filtering/nsd'"
      ]
     },
     "execution_count": 2,
     "metadata": {},
     "output_type": "execute_result"
    }
   ],
   "source": [
    "\n",
    "snapshot_download(repo_id=\"pscotti/mindeyev2\", repo_type = \"dataset\", revision=\"main\", allow_patterns=\"*.tar\",\n",
    "    local_dir= \"./nsd/\", local_dir_use_symlinks = False, resume_download = True)"
   ]
  },
  {
   "cell_type": "code",
   "execution_count": 3,
   "metadata": {},
   "outputs": [
    {
     "data": {
      "application/vnd.jupyter.widget-view+json": {
       "model_id": "9a42990291be49a5a6335e4262833834",
       "version_major": 2,
       "version_minor": 0
      },
      "text/plain": [
       "coco_images_224_float16.hdf5:   0%|          | 0.00/22.0G [00:00<?, ?B/s]"
      ]
     },
     "metadata": {},
     "output_type": "display_data"
    },
    {
     "data": {
      "text/plain": [
       "'./nsd/coco_images_224_float16.hdf5'"
      ]
     },
     "execution_count": 3,
     "metadata": {},
     "output_type": "execute_result"
    }
   ],
   "source": [
    "hf_hub_download(repo_id=\"pscotti/mindeyev2\", filename=\"coco_images_224_float16.hdf5\", repo_type=\"dataset\", local_dir=\"./nsd\")"
   ]
  },
  {
   "cell_type": "code",
   "execution_count": 4,
   "metadata": {},
   "outputs": [
    {
     "data": {
      "application/vnd.jupyter.widget-view+json": {
       "model_id": "5987a3d8a7084cbc9deca484108f365d",
       "version_major": 2,
       "version_minor": 0
      },
      "text/plain": [
       "betas_all_subj01_fp32_renorm.hdf5:   0%|          | 0.00/1.89G [00:00<?, ?B/s]"
      ]
     },
     "metadata": {},
     "output_type": "display_data"
    },
    {
     "data": {
      "application/vnd.jupyter.widget-view+json": {
       "model_id": "c697ad92f7e14c6cbc7a4cadfa74875f",
       "version_major": 2,
       "version_minor": 0
      },
      "text/plain": [
       "betas_all_subj02_fp32_renorm.hdf5:   0%|          | 0.00/1.71G [00:00<?, ?B/s]"
      ]
     },
     "metadata": {},
     "output_type": "display_data"
    },
    {
     "data": {
      "application/vnd.jupyter.widget-view+json": {
       "model_id": "3f8d0bde0eab4955ac8479f52f700b38",
       "version_major": 2,
       "version_minor": 0
      },
      "text/plain": [
       "betas_all_subj03_fp32_renorm.hdf5:   0%|          | 0.00/1.46G [00:00<?, ?B/s]"
      ]
     },
     "metadata": {},
     "output_type": "display_data"
    },
    {
     "data": {
      "application/vnd.jupyter.widget-view+json": {
       "model_id": "57b090ff787f456a8c0c12da301002cc",
       "version_major": 2,
       "version_minor": 0
      },
      "text/plain": [
       "betas_all_subj04_fp32_renorm.hdf5:   0%|          | 0.00/1.18G [00:00<?, ?B/s]"
      ]
     },
     "metadata": {},
     "output_type": "display_data"
    },
    {
     "data": {
      "application/vnd.jupyter.widget-view+json": {
       "model_id": "e0b4924f443b488791804f5535f8c334",
       "version_major": 2,
       "version_minor": 0
      },
      "text/plain": [
       "betas_all_subj05_fp32_renorm.hdf5:   0%|          | 0.00/1.56G [00:00<?, ?B/s]"
      ]
     },
     "metadata": {},
     "output_type": "display_data"
    },
    {
     "data": {
      "application/vnd.jupyter.widget-view+json": {
       "model_id": "8b65a3cc1ba64e5aa1477fde6fa8c6c2",
       "version_major": 2,
       "version_minor": 0
      },
      "text/plain": [
       "betas_all_subj06_fp32_renorm.hdf5:   0%|          | 0.00/1.72G [00:00<?, ?B/s]"
      ]
     },
     "metadata": {},
     "output_type": "display_data"
    },
    {
     "data": {
      "application/vnd.jupyter.widget-view+json": {
       "model_id": "20869533a24a4b9ea7881b9da01217a9",
       "version_major": 2,
       "version_minor": 0
      },
      "text/plain": [
       "betas_all_subj07_fp32_renorm.hdf5:   0%|          | 0.00/1.52G [00:00<?, ?B/s]"
      ]
     },
     "metadata": {},
     "output_type": "display_data"
    },
    {
     "data": {
      "application/vnd.jupyter.widget-view+json": {
       "model_id": "4769db7ad9644fa381c0bbcc36f70d36",
       "version_major": 2,
       "version_minor": 0
      },
      "text/plain": [
       "betas_all_subj08_fp32_renorm.hdf5:   0%|          | 0.00/1.29G [00:00<?, ?B/s]"
      ]
     },
     "metadata": {},
     "output_type": "display_data"
    },
    {
     "data": {
      "text/plain": [
       "'./nsd/betas_all_subj08_fp32_renorm.hdf5'"
      ]
     },
     "execution_count": 4,
     "metadata": {},
     "output_type": "execute_result"
    }
   ],
   "source": [
    "hf_hub_download(repo_id=\"pscotti/mindeyev2\", filename=\"betas_all_subj01_fp32_renorm.hdf5\", repo_type=\"dataset\", local_dir=\"./nsd\")\n",
    "\n",
    "hf_hub_download(repo_id=\"pscotti/mindeyev2\", filename=\"betas_all_subj02_fp32_renorm.hdf5\", repo_type=\"dataset\", local_dir=\"./nsd\")\n",
    "\n",
    "hf_hub_download(repo_id=\"pscotti/mindeyev2\", filename=\"betas_all_subj03_fp32_renorm.hdf5\", repo_type=\"dataset\", local_dir=\"./nsd\")\n",
    "\n",
    "hf_hub_download(repo_id=\"pscotti/mindeyev2\", filename=\"betas_all_subj04_fp32_renorm.hdf5\", repo_type=\"dataset\", local_dir=\"./nsd\")\n",
    "\n",
    "hf_hub_download(repo_id=\"pscotti/mindeyev2\", filename=\"betas_all_subj05_fp32_renorm.hdf5\", repo_type=\"dataset\", local_dir=\"./nsd\")\n",
    "\n",
    "hf_hub_download(repo_id=\"pscotti/mindeyev2\", filename=\"betas_all_subj06_fp32_renorm.hdf5\", repo_type=\"dataset\", local_dir=\"./nsd\")\n",
    "\n",
    "hf_hub_download(repo_id=\"pscotti/mindeyev2\", filename=\"betas_all_subj07_fp32_renorm.hdf5\", repo_type=\"dataset\", local_dir=\"./nsd\")\n",
    "\n",
    "hf_hub_download(repo_id=\"pscotti/mindeyev2\", filename=\"betas_all_subj08_fp32_renorm.hdf5\", repo_type=\"dataset\", local_dir=\"./nsd\")"
   ]
  },
  {
   "cell_type": "code",
   "execution_count": null,
   "metadata": {},
   "outputs": [],
   "source": []
  }
 ],
 "metadata": {
  "kernelspec": {
   "display_name": "Python 3 (ipykernel)",
   "language": "python",
   "name": "python3"
  },
  "language_info": {
   "codemirror_mode": {
    "name": "ipython",
    "version": 3
   },
   "file_extension": ".py",
   "mimetype": "text/x-python",
   "name": "python",
   "nbconvert_exporter": "python",
   "pygments_lexer": "ipython3",
   "version": "3.10.14"
  }
 },
 "nbformat": 4,
 "nbformat_minor": 4
}
