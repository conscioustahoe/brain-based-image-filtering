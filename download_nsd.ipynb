{
 "cells": [
  {
   "cell_type": "markdown",
   "metadata": {},
   "source": [
    "## Download NSD Snapshot"
   ]
  },
  {
   "cell_type": "code",
   "execution_count": null,
   "metadata": {},
   "outputs": [],
   "source": [
    "from huggingface_hub import snapshot_download, hf_hub_download"
   ]
  },
  {
   "cell_type": "code",
   "execution_count": null,
   "metadata": {},
   "outputs": [],
   "source": [
    "\n",
    "snapshot_download(repo_id=\"pscotti/mindeyev2\", repo_type = \"dataset\", revision=\"main\", allow_patterns=\"*.tar\",\n",
    "    local_dir= \"./nsd/\", local_dir_use_symlinks = False, resume_download = True)"
   ]
  },
  {
   "cell_type": "code",
   "execution_count": null,
   "metadata": {},
   "outputs": [],
   "source": [
    "hf_hub_download(repo_id=\"pscotti/mindeyev2\", filename=\"coco_images_224_float16.hdf5\", repo_type=\"dataset\", local_dir=\"./nsd\")"
   ]
  },
  {
   "cell_type": "code",
   "execution_count": null,
   "metadata": {},
   "outputs": [],
   "source": [
    "hf_hub_download(repo_id=\"pscotti/mindeyev2\", filename=\"betas_all_subj01_fp32_renorm.hdf5\", repo_type=\"dataset\", local_dir=\"./nsd\")\n",
    "\n",
    "hf_hub_download(repo_id=\"pscotti/mindeyev2\", filename=\"betas_all_subj02_fp32_renorm.hdf5\", repo_type=\"dataset\", local_dir=\"./nsd\")\n",
    "\n",
    "hf_hub_download(repo_id=\"pscotti/mindeyev2\", filename=\"betas_all_subj03_fp32_renorm.hdf5\", repo_type=\"dataset\", local_dir=\"./nsd\")\n",
    "\n",
    "hf_hub_download(repo_id=\"pscotti/mindeyev2\", filename=\"betas_all_subj04_fp32_renorm.hdf5\", repo_type=\"dataset\", local_dir=\"./nsd\")\n",
    "\n",
    "hf_hub_download(repo_id=\"pscotti/mindeyev2\", filename=\"betas_all_subj05_fp32_renorm.hdf5\", repo_type=\"dataset\", local_dir=\"./nsd\")\n",
    "\n",
    "hf_hub_download(repo_id=\"pscotti/mindeyev2\", filename=\"betas_all_subj06_fp32_renorm.hdf5\", repo_type=\"dataset\", local_dir=\"./nsd\")\n",
    "\n",
    "hf_hub_download(repo_id=\"pscotti/mindeyev2\", filename=\"betas_all_subj07_fp32_renorm.hdf5\", repo_type=\"dataset\", local_dir=\"./nsd\")\n",
    "\n",
    "hf_hub_download(repo_id=\"pscotti/mindeyev2\", filename=\"betas_all_subj08_fp32_renorm.hdf5\", repo_type=\"dataset\", local_dir=\"./nsd\")"
   ]
  },
  {
   "cell_type": "code",
   "execution_count": null,
   "metadata": {},
   "outputs": [],
   "source": []
  }
 ],
 "metadata": {
  "kernelspec": {
   "display_name": "Python 3 (ipykernel)",
   "language": "python",
   "name": "python3"
  },
  "language_info": {
   "codemirror_mode": {
    "name": "ipython",
    "version": 3
   },
   "file_extension": ".py",
   "mimetype": "text/x-python",
   "name": "python",
   "nbconvert_exporter": "python",
   "pygments_lexer": "ipython3",
   "version": "3.10.14"
  }
 },
 "nbformat": 4,
 "nbformat_minor": 4
}
